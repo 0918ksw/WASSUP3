{
 "cells": [
  {
   "cell_type": "code",
   "execution_count": 1,
   "id": "30ab7577-de77-4a86-8e21-f3b985b28779",
   "metadata": {},
   "outputs": [
    {
     "name": "stdout",
     "output_type": "stream",
     "text": [
      "Requirement already satisfied: IPython in c:\\users\\ksw\\anaconda3-\\lib\\site-packages (8.20.0)\n",
      "Requirement already satisfied: decorator in c:\\users\\ksw\\anaconda3-\\lib\\site-packages (from IPython) (5.1.1)\n",
      "Requirement already satisfied: jedi>=0.16 in c:\\users\\ksw\\anaconda3-\\lib\\site-packages (from IPython) (0.18.1)\n",
      "Requirement already satisfied: matplotlib-inline in c:\\users\\ksw\\anaconda3-\\lib\\site-packages (from IPython) (0.1.6)\n",
      "Requirement already satisfied: prompt-toolkit<3.1.0,>=3.0.41 in c:\\users\\ksw\\anaconda3-\\lib\\site-packages (from IPython) (3.0.43)\n",
      "Requirement already satisfied: pygments>=2.4.0 in c:\\users\\ksw\\anaconda3-\\lib\\site-packages (from IPython) (2.15.1)\n",
      "Requirement already satisfied: stack-data in c:\\users\\ksw\\anaconda3-\\lib\\site-packages (from IPython) (0.2.0)\n",
      "Requirement already satisfied: traitlets>=5 in c:\\users\\ksw\\anaconda3-\\lib\\site-packages (from IPython) (5.7.1)\n",
      "Requirement already satisfied: colorama in c:\\users\\ksw\\anaconda3-\\lib\\site-packages (from IPython) (0.4.6)\n",
      "Requirement already satisfied: parso<0.9.0,>=0.8.0 in c:\\users\\ksw\\anaconda3-\\lib\\site-packages (from jedi>=0.16->IPython) (0.8.3)\n",
      "Requirement already satisfied: wcwidth in c:\\users\\ksw\\anaconda3-\\lib\\site-packages (from prompt-toolkit<3.1.0,>=3.0.41->IPython) (0.2.5)\n",
      "Requirement already satisfied: executing in c:\\users\\ksw\\anaconda3-\\lib\\site-packages (from stack-data->IPython) (0.8.3)\n",
      "Requirement already satisfied: asttokens in c:\\users\\ksw\\anaconda3-\\lib\\site-packages (from stack-data->IPython) (2.0.5)\n",
      "Requirement already satisfied: pure-eval in c:\\users\\ksw\\anaconda3-\\lib\\site-packages (from stack-data->IPython) (0.2.2)\n",
      "Requirement already satisfied: six in c:\\users\\ksw\\anaconda3-\\lib\\site-packages (from asttokens->stack-data->IPython) (1.16.0)\n",
      "Note: you may need to restart the kernel to use updated packages.\n"
     ]
    }
   ],
   "source": [
    "pip install IPython"
   ]
  },
  {
   "cell_type": "code",
   "execution_count": 2,
   "id": "56674fcc-1c30-4699-922a-69ef0366701a",
   "metadata": {},
   "outputs": [
    {
     "data": {
      "text/html": [
       "<style>.container { width: 100% !important; }</style>"
      ],
      "text/plain": [
       "<IPython.core.display.HTML object>"
      ]
     },
     "metadata": {},
     "output_type": "display_data"
    }
   ],
   "source": [
    "# 주피터노트북 셀 스타일 조절\n",
    "from IPython.display import display, HTML\n",
    "# 셀 컨테이너의 너비를 100%로 설정\n",
    "display(HTML(\"<style>.container { width: 100% !important; }</style>\"))"
   ]
  },
  {
   "cell_type": "code",
   "execution_count": null,
   "id": "f1662297-a678-408d-ba3f-0303fd771b59",
   "metadata": {
    "jupyter": {
     "source_hidden": true
    }
   },
   "outputs": [],
   "source": []
  },
  {
   "cell_type": "markdown",
   "id": "7c7d45b6-007a-49ae-a753-c5f313de4e8a",
   "metadata": {},
   "source": [
    "## 인공지능까지 이어진대. I/O Numpy를 반드시 이해해야함.\n",
    "다차원 배열? 차원. 현실세계에 데이터를 어떻게 표현할 것인가?\n",
    "문자를 숫자로 표현하려면 어떻게 해야할까? 이미지를 데이터화 하려면 어떻게 해야할까?\n",
    "이걸 해결하는 것이 차원이라고 한다. 3가지 차원을 이야기한다.\n",
    "1차원 array는 vector라고 한다. vector에는 특징이 하나 있다. 방향성이 있다.\n",
    "방향을 가지고 있다. 일방향을 표현하는 것이 vector이다.\n",
    "X좌표만 있는것이 1차원 데이터이다.\n",
    "2차원 데이터는 MATRIX라고 부른다. X, Y가 있다.\n",
    "3차원은 텐서라고 부른다. X, Y, Z좌표를 가지고 있다.\n",
    "데이터가 하나만 있을때는 Scalar라고 부른다. - MATRIX - TENSOR 이렇게 진화\n",
    "shape는 모양을 의미한다. \n",
    "SCALAR의 X는 방향이라고 알아야한다. 실제로 표현할때에는 Column으로 표현한다.\n",
    "2D는 열, 행이 있어서 데이터가 쌓일때 위에서 아래로 쌓인다\n",
    "연산이 요소별 연산이 이루어진다는것. "
   ]
  },
  {
   "cell_type": "code",
   "execution_count": 3,
   "id": "43bbe977-f1b5-4f57-b811-d1ed04588d01",
   "metadata": {},
   "outputs": [
    {
     "data": {
      "text/plain": [
       "'1.26.4'"
      ]
     },
     "execution_count": 3,
     "metadata": {},
     "output_type": "execute_result"
    }
   ],
   "source": [
    "import numpy as np\n",
    "np.__version__"
   ]
  },
  {
   "cell_type": "markdown",
   "id": "fb0de9f4-4653-4d10-b0be-f63f9996ebcb",
   "metadata": {},
   "source": [
    "## Numpy 배열 이해하기"
   ]
  },
  {
   "cell_type": "markdown",
   "id": "d174cd87-cc85-4bef-a065-85b6ee32976a",
   "metadata": {},
   "source": [
    "## ndim(demention, rank)"
   ]
  },
  {
   "cell_type": "code",
   "execution_count": 4,
   "id": "f39ffca5-77d8-4e28-9a80-cf92ed78969b",
   "metadata": {},
   "outputs": [
    {
     "data": {
      "text/plain": [
       "(array(0), 0, numpy.ndarray)"
      ]
     },
     "execution_count": 4,
     "metadata": {},
     "output_type": "execute_result"
    }
   ],
   "source": [
    "a = np.array(0)\n",
    "a, a.ndim, type(a)"
   ]
  },
  {
   "cell_type": "code",
   "execution_count": 5,
   "id": "aa5fd17f-b9ee-482a-95ea-98987c0811af",
   "metadata": {},
   "outputs": [
    {
     "data": {
      "text/plain": [
       "(array([2, 4, 6]), 1, numpy.ndarray)"
      ]
     },
     "execution_count": 5,
     "metadata": {},
     "output_type": "execute_result"
    }
   ],
   "source": [
    "a = np.array([2, 4, 6])\n",
    "a, a.ndim, type(a) #차원을 의미하기에 '1'이라고 찍혔다"
   ]
  },
  {
   "cell_type": "code",
   "execution_count": 6,
   "id": "49d088bc-ba50-4f77-a896-32b0ae848a65",
   "metadata": {},
   "outputs": [
    {
     "data": {
      "text/plain": [
       "(array([[1, 2, 3],\n",
       "        [4, 5, 6]]),\n",
       " 2,\n",
       " numpy.ndarray)"
      ]
     },
     "execution_count": 6,
     "metadata": {},
     "output_type": "execute_result"
    }
   ],
   "source": [
    "a = np.array([[1, 2, 3], [4, 5, 6]])\n",
    "a, a.ndim, type(a)"
   ]
  },
  {
   "cell_type": "code",
   "execution_count": 7,
   "id": "8aaeb588-fb13-468d-b317-450049392edd",
   "metadata": {},
   "outputs": [
    {
     "data": {
      "text/plain": [
       "(array([[[1, 2, 3],\n",
       "         [4, 5, 6]],\n",
       " \n",
       "        [[1, 2, 3],\n",
       "         [5, 5, 6]]]),\n",
       " 3,\n",
       " numpy.ndarray)"
      ]
     },
     "execution_count": 7,
     "metadata": {},
     "output_type": "execute_result"
    }
   ],
   "source": [
    "a = np.array([[[1, 2, 3], [4, 5, 6]], [[1, 2, 3], [5, 5, 6]]])\n",
    "a, a.ndim, type(a)"
   ]
  },
  {
   "cell_type": "code",
   "execution_count": 8,
   "id": "52d78af5-0f76-4e06-ab65-416cb619c16f",
   "metadata": {},
   "outputs": [
    {
     "data": {
      "text/plain": [
       "(2, 2, 3)"
      ]
     },
     "execution_count": 8,
     "metadata": {},
     "output_type": "execute_result"
    }
   ],
   "source": [
    "a.shape"
   ]
  },
  {
   "cell_type": "markdown",
   "id": "43256ae7-0628-429a-bff1-0232d2b4b818",
   "metadata": {},
   "source": [
    "## shape\r\n",
    "행렬의 차원으로, 몇행 몇열인지 반환"
   ]
  },
  {
   "cell_type": "code",
   "execution_count": 9,
   "id": "e949ddbe-a0f2-4116-865d-42e152709a28",
   "metadata": {},
   "outputs": [
    {
     "data": {
      "text/plain": [
       "(array(3), ())"
      ]
     },
     "execution_count": 9,
     "metadata": {},
     "output_type": "execute_result"
    }
   ],
   "source": [
    "a = np.array(3)\n",
    "a, a.shape # 행렬아님"
   ]
  },
  {
   "cell_type": "code",
   "execution_count": 10,
   "id": "62411f11-183b-4eee-8a23-5cabd43ede6c",
   "metadata": {},
   "outputs": [
    {
     "data": {
      "text/plain": [
       "(array([1, 3, 5, 7, 9]), (5,))"
      ]
     },
     "execution_count": 10,
     "metadata": {},
     "output_type": "execute_result"
    }
   ],
   "source": [
    "a = np.array([ 1, 3, 5, 7, 9 ])\n",
    "a, a.shape"
   ]
  },
  {
   "cell_type": "code",
   "execution_count": 11,
   "id": "d676197d-bf89-4f2e-b061-5495689bcaac",
   "metadata": {},
   "outputs": [
    {
     "data": {
      "text/plain": [
       "(array([[1, 2, 3],\n",
       "        [4, 5, 6]]),\n",
       " 2,\n",
       " numpy.ndarray)"
      ]
     },
     "execution_count": 11,
     "metadata": {},
     "output_type": "execute_result"
    }
   ],
   "source": [
    "a = np.array([[1, 2, 3], [4, 5, 6]])\n",
    "a, a.ndim, type(a)"
   ]
  },
  {
   "cell_type": "code",
   "execution_count": 12,
   "id": "c80915a7-9abc-46d3-bc5f-f5e191547684",
   "metadata": {},
   "outputs": [
    {
     "data": {
      "text/plain": [
       "(array([[[0, 0, 0, 0],\n",
       "         [0, 0, 0, 0],\n",
       "         [0, 0, 0, 0]],\n",
       " \n",
       "        [[0, 0, 0, 0],\n",
       "         [0, 0, 0, 0],\n",
       "         [0, 0, 0, 0]]]),\n",
       " (2, 3, 4))"
      ]
     },
     "execution_count": 12,
     "metadata": {},
     "output_type": "execute_result"
    }
   ],
   "source": [
    "a = np.array([[[0, 0, 0, 0], [0, 0, 0, 0], [0, 0, 0, 0]], [[0, 0, 0, 0], [0, 0, 0, 0], [0, 0, 0, 0]]])\n",
    "a, a.shape # 2개의 3행 4열"
   ]
  },
  {
   "cell_type": "markdown",
   "id": "3d4f9cc7-a86b-4872-9e84-f5c005948459",
   "metadata": {},
   "source": [
    "## 넘파이 배열\r\n",
    "리스트를 넘파이 배열로 생성 np.array(리스트)\r\n",
    "관련 속성 : ndim 차원 반환 int , size 전체 길이 반환 int, shape 구조 반환 tuple"
   ]
  },
  {
   "cell_type": "code",
   "execution_count": 13,
   "id": "b0792e90-07b0-443b-a587-e41613320d0e",
   "metadata": {},
   "outputs": [
    {
     "name": "stdout",
     "output_type": "stream",
     "text": [
      "[10, 56, 77, 23, 44] <class 'list'> 5\n"
     ]
    }
   ],
   "source": [
    "# 1차원 리스트 객체(이터러블)\n",
    "myList = [10, 56, 77, 23, 44]\n",
    "print(myList, type(myList), len(myList))"
   ]
  },
  {
   "cell_type": "code",
   "execution_count": 14,
   "id": "c905da0b-14d8-4e36-9aaa-251e83c63505",
   "metadata": {},
   "outputs": [
    {
     "name": "stdout",
     "output_type": "stream",
     "text": [
      "[10 56 77 23 44] <class 'numpy.ndarray'> 5\n",
      "차원=1, 구조=(5,), size=5, 길이=5\n"
     ]
    }
   ],
   "source": [
    "myArr = np.array(myList)\n",
    "print(myArr, type(myArr), len(myArr))\n",
    "print(f'차원={myArr.ndim}, 구조={myArr.shape}, size={myArr.size}, 길이={len(myArr)}')"
   ]
  },
  {
   "cell_type": "code",
   "execution_count": 15,
   "id": "d6721e2c-2575-420a-98b0-bab2b09f47cb",
   "metadata": {},
   "outputs": [
    {
     "data": {
      "text/plain": [
       "([[1, 2, 3], [10, 20, 30], [100, 200, 300]], 3)"
      ]
     },
     "execution_count": 15,
     "metadata": {},
     "output_type": "execute_result"
    }
   ],
   "source": [
    "# 2차원 리스트 객체(이터러블)\n",
    "myList2 = [[1,2,3 ],[10,20,30],[100,200,300]]\n",
    "myList2, len(myList2)"
   ]
  },
  {
   "cell_type": "code",
   "execution_count": 16,
   "id": "b9a5d218-db4f-4cf4-9e39-943d70bf93d1",
   "metadata": {},
   "outputs": [
    {
     "name": "stdout",
     "output_type": "stream",
     "text": [
      "[[  1   2   3]\n",
      " [ 10  20  30]\n",
      " [100 200 300]] <class 'numpy.ndarray'> 3\n",
      "차원= 2, 구조 = (3, 3), size = 9, 길이=3\n"
     ]
    }
   ],
   "source": [
    "myArr2 = np.array(myList2)\n",
    "print(myArr2, type(myArr2), len(myArr2))\n",
    "print(f'차원= {myArr2.ndim}, 구조 = {myArr2.shape}, size = {myArr2.size}, 길이={len(myArr2)}' )"
   ]
  },
  {
   "cell_type": "code",
   "execution_count": 17,
   "id": "772f38e0-517e-4796-965c-c6057dc53bb7",
   "metadata": {},
   "outputs": [
    {
     "name": "stdout",
     "output_type": "stream",
     "text": [
      "[[1, 2, 3, 4], [10, 20, 30, 40, 50], [100, 200]] <class 'list'> 3\n"
     ]
    }
   ],
   "source": [
    "myList21 = [ [1,2,3,4],[10,20,30,40,50],[100,200,]]\n",
    "print(myList21, type(myList21), len(myList21))"
   ]
  },
  {
   "cell_type": "code",
   "execution_count": 18,
   "id": "356907f1-46d6-4e4e-9866-3e887ca04e8a",
   "metadata": {},
   "outputs": [
    {
     "ename": "ValueError",
     "evalue": "setting an array element with a sequence. The requested array has an inhomogeneous shape after 1 dimensions. The detected shape was (3,) + inhomogeneous part.",
     "output_type": "error",
     "traceback": [
      "\u001b[1;31m---------------------------------------------------------------------------\u001b[0m",
      "\u001b[1;31mValueError\u001b[0m                                Traceback (most recent call last)",
      "Cell \u001b[1;32mIn[18], line 2\u001b[0m\n\u001b[0;32m      1\u001b[0m \u001b[38;5;66;03m# 길이가 달라 에러 리턴\u001b[39;00m\n\u001b[1;32m----> 2\u001b[0m myArr21 \u001b[38;5;241m=\u001b[39m np\u001b[38;5;241m.\u001b[39marray(myList21)\n\u001b[0;32m      3\u001b[0m \u001b[38;5;28mprint\u001b[39m(myArr21, \u001b[38;5;28mtype\u001b[39m(myArr21), \u001b[38;5;28mlen\u001b[39m(myArr21))\n\u001b[0;32m      4\u001b[0m \u001b[38;5;28mprint\u001b[39m(\u001b[38;5;124mf\u001b[39m\u001b[38;5;124m'\u001b[39m\u001b[38;5;124m차원= \u001b[39m\u001b[38;5;132;01m{\u001b[39;00mmyArr21\u001b[38;5;241m.\u001b[39mndim\u001b[38;5;132;01m}\u001b[39;00m\u001b[38;5;124m, 구조 = \u001b[39m\u001b[38;5;132;01m{\u001b[39;00mmyArr21\u001b[38;5;241m.\u001b[39mshape\u001b[38;5;132;01m}\u001b[39;00m\u001b[38;5;124m, size = \u001b[39m\u001b[38;5;132;01m{\u001b[39;00mmyArr21\u001b[38;5;241m.\u001b[39msize\u001b[38;5;132;01m}\u001b[39;00m\u001b[38;5;124m'\u001b[39m)\n",
      "\u001b[1;31mValueError\u001b[0m: setting an array element with a sequence. The requested array has an inhomogeneous shape after 1 dimensions. The detected shape was (3,) + inhomogeneous part."
     ]
    }
   ],
   "source": [
    "# 길이가 달라 에러 리턴\n",
    "myArr21 = np.array(myList21)\n",
    "print(myArr21, type(myArr21), len(myArr21))\n",
    "print(f'차원= {myArr21.ndim}, 구조 = {myArr21.shape}, size = {myArr21.size}')"
   ]
  },
  {
   "cell_type": "markdown",
   "id": "69bc8beb-ecc2-4625-b864-6ee23ae97d72",
   "metadata": {},
   "source": [
    "## 넘파이 배열과 리스트와의 차이점\r\n",
    "배열간의 연산 가능 \"브로드캐스팅\", 요소별 연산(element-wise)\r\n",
    "넘파이 메서드 사용 가능 : 평균, 상관계수, 분산, 표준편차 등\r\n",
    "리스트는 자료형 혼합 가능, 넘파이배열은 하나의 자료형만 가능"
   ]
  },
  {
   "cell_type": "code",
   "execution_count": null,
   "id": "d9d94e13-af22-42a1-a509-ffe2e34d678a",
   "metadata": {},
   "outputs": [],
   "source": [
    "# 리스트의 산술연산자 +, * \n",
    "listA = [10, 30, 50]\n",
    "listB = [1, 2, 3]\n",
    "print(listA + listB) # 리스트의 + 연산자는 조인역할\n",
    "print(listA + 2) # 불가"
   ]
  },
  {
   "cell_type": "code",
   "execution_count": null,
   "id": "8404ec99-3558-4a75-9e2d-bfce834ccfaf",
   "metadata": {},
   "outputs": [],
   "source": [
    "print(listA * 2) # 해당 리스트의 반복\n",
    "print(listA * listB) # 불가"
   ]
  },
  {
   "cell_type": "code",
   "execution_count": null,
   "id": "ffdc5201-d698-450c-94d7-1b0d851f1ac5",
   "metadata": {},
   "outputs": [],
   "source": [
    "arrB = np.array([4, 5, 6])\n",
    "print(arrA + arrB)\n",
    "print(arrA * arrB)\n",
    "print(arrA / arrB)\n",
    "print(arrA // arrB) # 몫\n",
    "print(arrA % arrB) # 나머지"
   ]
  },
  {
   "cell_type": "markdown",
   "id": "3e2ff7f4-9aeb-4723-b697-1bf1e8b12b11",
   "metadata": {},
   "source": [
    "## https://numpy.org/doc/stable/reference/arrays.dtypes.html\r\n",
    "데이터 U유형은 각 유니코드 문자를 32비트 정수(예: 4바이트)로 저장합니다. (유니코드 스트링 dtype 인수로 지정할 자료형은 다음 표에 보인것과 같은 “dtype 접두사”로 시작하는 문자열이고 이 글자 뒤에 오는 숫자는 바이트 수 혹은 글자 수를 의미한다.\r\n",
    "예를 들어 f8은 8바이트(64비트) 부동소수점 실수를 뜻하고 U4 는 4글자 유니코드 문자열을 뜻한다"
   ]
  },
  {
   "cell_type": "code",
   "execution_count": null,
   "id": "e3b982c4-c1f9-4ff7-8447-943f38b5e2c1",
   "metadata": {},
   "outputs": [],
   "source": [
    "# 자료형 테스트\n",
    "myList_c = ['안녕', 100, 3.14, True, False] # 리스트는 혼합된 형 그대로 유지\n",
    "print(myList_c)"
   ]
  },
  {
   "cell_type": "code",
   "execution_count": null,
   "id": "66d4b127-b2e3-4633-b047-ba8dbf6b3782",
   "metadata": {},
   "outputs": [],
   "source": [
    "myArr_c = np.array(myList_c) # 넘파이배열은 '문자열'로 통일 자동형변환\n",
    "print(myArr_c, type(myArr_c), myArr_c.dtype)"
   ]
  },
  {
   "cell_type": "code",
   "execution_count": null,
   "id": "f47c4977-71b3-4ed6-bdf4-95e7f6e5375f",
   "metadata": {},
   "outputs": [],
   "source": [
    "# 정수와 실수가 혼합된 넘파이 배열\n",
    "myArr_d = np.array([100, 3.14, 23.5, 0])\n",
    "print(myArr_d, type(myArr_d), myArr_d.dtype) # 정수와 실수 혼합시, 더 큰 실수형으로 통일 자동형변환"
   ]
  },
  {
   "cell_type": "markdown",
   "id": "8815575e-4a6c-44e0-83c1-22dd55e09533",
   "metadata": {},
   "source": [
    "## Inf와 NaN\r\n",
    "넘파이에서는 무한대를 표현하기 위한 np.inf(infinity)와 정의할 수 없는 숫자를 나타내는 np.nan(not a number)을 사용할 수 있다.\r\n",
    "다음 예와 같이 1을 0으로 나누려고 하거나 0에 대한 로그 값을 계산하면 무한대인 np.inf이 나온다.\r\n",
    "0을 0으로 나누려고 시도하면 np.nan이 나온다."
   ]
  },
  {
   "cell_type": "code",
   "execution_count": null,
   "id": "406efb7f-c5e2-42b1-a6ea-989b9f82b7bc",
   "metadata": {
    "scrolled": true
   },
   "outputs": [],
   "source": [
    "np.exp(-np.inf)"
   ]
  },
  {
   "cell_type": "markdown",
   "id": "fe177ba4-c1be-4f84-98fa-da3ae288eeab",
   "metadata": {},
   "source": [
    "## 기술통계"
   ]
  },
  {
   "cell_type": "code",
   "execution_count": null,
   "id": "b1a58457-6299-4545-badd-814ac7742e0b",
   "metadata": {},
   "outputs": [],
   "source": [
    "x = np.array([18,   5,  10,  23,  19,  -8,  10,   0,   0,   5,   2,  15,   8,\n",
    "              2,   5,   4,  15,  -1,   4,  -7, -24,   7,   9,  -6,  23, -13])"
   ]
  },
  {
   "cell_type": "code",
   "execution_count": null,
   "id": "73130264-1d69-497a-a8a7-e19686e452f6",
   "metadata": {},
   "outputs": [],
   "source": [
    "x.mean()"
   ]
  },
  {
   "cell_type": "code",
   "execution_count": null,
   "id": "e666e13c-bc66-4c6a-99c1-e10cee03cb88",
   "metadata": {},
   "outputs": [],
   "source": [
    "np.mean(x)"
   ]
  },
  {
   "cell_type": "code",
   "execution_count": null,
   "id": "e3b94000-62a6-496e-a358-1dd8d4985138",
   "metadata": {},
   "outputs": [],
   "source": [
    "np.var(x)  # 분산"
   ]
  },
  {
   "cell_type": "code",
   "execution_count": null,
   "id": "ed29fce8-4f39-4197-bbc5-90f7e30757d5",
   "metadata": {},
   "outputs": [],
   "source": [
    "np.std(x)  # 표준 편차"
   ]
  },
  {
   "cell_type": "code",
   "execution_count": null,
   "id": "28c6f060-5daf-4890-8ee3-ba1103ab742f",
   "metadata": {},
   "outputs": [],
   "source": [
    "np.max(x)  # 최댓값\n"
   ]
  },
  {
   "cell_type": "code",
   "execution_count": null,
   "id": "af245527-ee38-461b-a72c-676cdd7f1e7e",
   "metadata": {},
   "outputs": [],
   "source": [
    "np.min(x)  # 최소값\n"
   ]
  },
  {
   "cell_type": "markdown",
   "id": "51adb2b0-e17c-477f-906f-1c92c5160769",
   "metadata": {},
   "source": [
    "## 사분위수\r\n",
    "사분위수(quartile)는 데이터를 가장 작은 수부터 가장 큰 수까지 크기가 커지는 순서대로 정렬하였을 때 1/4, 2/4, 3/4 위치에 있는 수를 말한다.\r\n",
    "각각 1사분위수, 2사분위수, 3사분위수라고 한다.\r\n",
    "1/4의 위치란 전체 데이터의 수가 만약 100개이면 25번째 순서, 즉 하위 25%를 말한다. 따라서 2사분위수는 중앙값과 같다.\r\n",
    "\r\n",
    "때로는 위치를 1/100 단위로 나눈 백분위수(percentile)을 사용하기도 한다. 1사분위수는 25% 백분위수와 같다."
   ]
  },
  {
   "cell_type": "code",
   "execution_count": null,
   "id": "a9df4ec7-ba5c-421b-bab2-4b6cad42b517",
   "metadata": {},
   "outputs": [],
   "source": [
    "np.percentile(x, 0)  # 최소값\n"
   ]
  },
  {
   "cell_type": "code",
   "execution_count": null,
   "id": "8d7c817a-ca00-415b-95e6-1703ca913f81",
   "metadata": {},
   "outputs": [],
   "source": [
    "np.percentile(x, 25)  # 1사분위 수\n"
   ]
  },
  {
   "cell_type": "code",
   "execution_count": null,
   "id": "1aa74eaa-00b3-44cd-a50e-f30befad9f2a",
   "metadata": {},
   "outputs": [],
   "source": [
    "np.percentile(x, 50)  # 2사분위 수\n"
   ]
  },
  {
   "cell_type": "code",
   "execution_count": null,
   "id": "36bfa9aa-f581-4214-9fde-d29c60b2493a",
   "metadata": {},
   "outputs": [],
   "source": [
    "np.percentile(x, 75)  # 3사분위 수\n"
   ]
  },
  {
   "cell_type": "code",
   "execution_count": null,
   "id": "88e7dd78-5991-4db1-92da-2100f73259f2",
   "metadata": {},
   "outputs": [],
   "source": [
    "np.percentile(x, 100)  # 최댓값\n"
   ]
  },
  {
   "cell_type": "markdown",
   "id": "36ea47d3-6a71-4f61-8407-bc6681a1e637",
   "metadata": {},
   "source": [
    "## 넘파이 함수로 배열 만들기\r\n",
    "np.ones(n) , np.ones((x, y))\r\n",
    "np.zeros(n) , np.zeros((x, y))\r\n",
    "np.empty(n) , np.empty((x, y))\r\n",
    "np.aranges(start, end step)\r\n",
    "\r\n",
    "reshape(x, y) # 차원 확대\r\n",
    "flatten(x, y) # 차원 축소"
   ]
  },
  {
   "cell_type": "code",
   "execution_count": null,
   "id": "c033f794-431b-405c-a5b5-f05f186d3e15",
   "metadata": {},
   "outputs": [],
   "source": [
    "# 1로 메모리 초기화, 넘파이 함수로 배열을 만들때에는 디폴트가 실수형\n",
    "print(np.ones(10), np.ones(10).dtype) "
   ]
  },
  {
   "cell_type": "code",
   "execution_count": null,
   "id": "0121d119-2921-4066-8103-05ed4ed082d7",
   "metadata": {},
   "outputs": [],
   "source": [
    "print(np.ones((2,4)), np.ones((2,4)).dtype)"
   ]
  },
  {
   "cell_type": "code",
   "execution_count": null,
   "id": "67872815-a766-4447-a511-66a96b59ed15",
   "metadata": {},
   "outputs": [],
   "source": [
    "# 0으로 메모리 초기화\n",
    "print(np.zeros(10), np.zeros(10).dtype)"
   ]
  },
  {
   "cell_type": "code",
   "execution_count": null,
   "id": "877bfcf3-7fc9-4d59-ab9c-6c60875c374f",
   "metadata": {},
   "outputs": [],
   "source": [
    "print(np.zeros((3,3)), np.zeros((3,3)).dtype)"
   ]
  },
  {
   "cell_type": "code",
   "execution_count": null,
   "id": "6325751f-581d-4cd4-9a25-907a4c61747f",
   "metadata": {},
   "outputs": [],
   "source": [
    "# 메모리가 비어있음 -> 메모리가 초기화 되지 않는다.\n",
    "print(np.empty(10), np.empty(10).dtype)\n",
    "print(np.empty((3,3)), np.empty((3,3)).dtype)\n",
    "print(np.empty((3,3)))\n",
    "print(np.empty((3,3), dtype=int))  # 기존 메모리에 있던 값을 출력한다.(정확히 알수 없음)"
   ]
  },
  {
   "cell_type": "code",
   "execution_count": null,
   "id": "5c0e97c8-421f-49e8-80fb-6e8a9959cca4",
   "metadata": {},
   "outputs": [],
   "source": [
    "# 리스트+레인지\n",
    "print( list(range(1,21)), type(list(range(1,21))) )"
   ]
  },
  {
   "cell_type": "code",
   "execution_count": null,
   "id": "957ccc55-7383-4faa-931c-1887a0a30c80",
   "metadata": {
    "scrolled": true
   },
   "outputs": [],
   "source": [
    "# 1~20으로 구성된 4행 5열의 넘파이 배열print(np.array(list(range(1,21))), type(list(range(1,21))))\n",
    "print(np.arange(20), type(np.arange(20)))\n",
    "print(np.arange(1, 20), type(np.arange(1, 20)))\n",
    "print(np.arange(1, 20, 2), type(np.arange(1, 20,2)))"
   ]
  },
  {
   "cell_type": "code",
   "execution_count": null,
   "id": "9de17079-caf6-4b6e-8a73-ed1d4c491b00",
   "metadata": {},
   "outputs": [],
   "source": [
    "print(np.arange(2, 20, 2), type(np.arange(2, 20,2)))"
   ]
  },
  {
   "cell_type": "code",
   "execution_count": null,
   "id": "b6b138f6-c172-4959-85bf-a7847439694b",
   "metadata": {},
   "outputs": [],
   "source": [
    "# 0~49까지 구성된 넘파이 배열\n",
    "arr = np.arange(50)\n",
    "print(arr, len(arr), arr.size)"
   ]
  },
  {
   "cell_type": "markdown",
   "id": "fc3df1bc-d93a-4063-a5f6-5e32537a08dc",
   "metadata": {},
   "source": [
    "## reshape 구조의 재배열\r\n",
    "reshape함수는 np.reshape(변경할 배열, 차원) 또는 배열.reshape(차원)으로 사용 할 수 있으며,\r\n",
    "현재의 배열의 차원(1차원,2차원,3차원)을 변경하여 행렬을 반환하거나 하는 경우에 많이 이용되는 함수이다."
   ]
  },
  {
   "cell_type": "code",
   "execution_count": null,
   "id": "b49064f2-928a-4213-a153-f44d429d417c",
   "metadata": {},
   "outputs": [],
   "source": [
    "arr, arr.ndim, arr.shape\n"
   ]
  },
  {
   "cell_type": "code",
   "execution_count": null,
   "id": "a02f4cf9-d35b-4e7c-a71a-8f78705766c1",
   "metadata": {},
   "outputs": [],
   "source": [
    "arr = arr.reshape(10,5)\n",
    "arr, arr.ndim, arr.shape\n"
   ]
  },
  {
   "cell_type": "code",
   "execution_count": null,
   "id": "62bf6d3d-2d4e-478a-ad34-e09b8c62b09c",
   "metadata": {},
   "outputs": [],
   "source": [
    "arr2 = arr.reshape(5,10)\n",
    "arr2, arr2.ndim, arr2.shape\n"
   ]
  },
  {
   "cell_type": "code",
   "execution_count": null,
   "id": "a1fb510f-f203-43a8-9478-99b5ecc4e0e5",
   "metadata": {},
   "outputs": [],
   "source": [
    "# 2차원 -> 1차원\n",
    "# 넘파이배열.flatten()\n",
    "arr3 = arr2.flatten()\n",
    "arr3, arr3.shape, arr3.ndim"
   ]
  },
  {
   "cell_type": "code",
   "execution_count": null,
   "id": "6c29525e-2515-45e6-b22e-e4bca1fdb8a2",
   "metadata": {},
   "outputs": [],
   "source": [
    "# 1~100 사이의 짝수로 된 넘파이 배열 생성\n",
    "np.arange(2,101,2)"
   ]
  },
  {
   "cell_type": "code",
   "execution_count": null,
   "id": "348bcecc-aa71-4aeb-beb1-93fc0fee176a",
   "metadata": {},
   "outputs": [],
   "source": [
    "print(np.arange(2,101,2).reshape(5,10))"
   ]
  },
  {
   "cell_type": "code",
   "execution_count": null,
   "id": "2b652763-4cb6-4d00-b8c4-7e0a2b06495f",
   "metadata": {},
   "outputs": [],
   "source": [
    "np.arange(1, 31)"
   ]
  },
  {
   "cell_type": "code",
   "execution_count": null,
   "id": "3609002c-13b2-4f95-9ee3-18fb41608111",
   "metadata": {},
   "outputs": [],
   "source": [
    "# 2차원인데 1개 칼럼의 모형을 만들어보자\n",
    "# reshape(-1, n) : 2차원 n개의 컬럼으로 구성, -1을 넣으면 자동으로 사이즈를 맞춰준다.\n",
    "arr4 = np.arange(1, 31).reshape(-1, 1)\n",
    "arr4, arr4.ndim, arr4.shape"
   ]
  },
  {
   "cell_type": "code",
   "execution_count": null,
   "id": "c62ba63d-643a-4de7-a8fb-6ad697f7c380",
   "metadata": {},
   "outputs": [],
   "source": [
    "arr4 = np.arange(1, 31).reshape(-1, 2)\n",
    "arr4, arr4.ndim, arr4.shape"
   ]
  },
  {
   "cell_type": "code",
   "execution_count": null,
   "id": "81574548-732b-407c-9b8b-eba5b9410ff6",
   "metadata": {},
   "outputs": [],
   "source": [
    "np.arange(1, 21).reshape(5, 4)"
   ]
  },
  {
   "cell_type": "code",
   "execution_count": null,
   "id": "b7dfe0d6-045c-406e-bffd-7dbca9d942b3",
   "metadata": {},
   "outputs": [],
   "source": [
    "print(np.arange(1,21).reshape(5,-1))"
   ]
  },
  {
   "cell_type": "code",
   "execution_count": null,
   "id": "6fcf82cc-3e67-48e4-b497-962157c70562",
   "metadata": {},
   "outputs": [],
   "source": [
    "# 4개 칼럼으로 배열 모형을 만들자\n",
    "np.arange(1, 21).reshape(5, 4)"
   ]
  },
  {
   "cell_type": "code",
   "execution_count": null,
   "id": "eae251a3-c9eb-49d4-a3de-c7db5f7352db",
   "metadata": {},
   "outputs": [],
   "source": [
    "# 5개 칼럼으로 배열 모형을 만들자\n",
    "np.arange(1, 21).reshape(-1, 5)\n",
    "# rehsape -1은, 행무관하고 n개의 컬럼을 만든다"
   ]
  },
  {
   "cell_type": "code",
   "execution_count": null,
   "id": "240e97b6-f5a4-4f3e-8774-e60cae06400a",
   "metadata": {},
   "outputs": [],
   "source": [
    "# 사이즈가 맞아야 한다.\n",
    "np.arange(1, 21).reshape(-1, 7)"
   ]
  },
  {
   "cell_type": "code",
   "execution_count": null,
   "id": "4bf1be50-992d-4ab0-81d4-bdf108076fcf",
   "metadata": {},
   "outputs": [],
   "source": [
    "a = np.arange(12)\n",
    "a, a.shape"
   ]
  },
  {
   "cell_type": "code",
   "execution_count": null,
   "id": "6508c320-41bb-4910-894f-a39613079613",
   "metadata": {},
   "outputs": [],
   "source": [
    "# 원본 값이 바뀜\n",
    "a.shape = 3, -1\n",
    "a, a.shape"
   ]
  },
  {
   "cell_type": "code",
   "execution_count": null,
   "id": "a7b6435e-7716-4f39-8f05-2e9b9c614bc1",
   "metadata": {},
   "outputs": [],
   "source": [
    "a.shape = -1, 1\n",
    "a, a.shape"
   ]
  },
  {
   "cell_type": "markdown",
   "id": "f8643067-bf7f-4971-8d39-7f7186ee1539",
   "metadata": {},
   "source": [
    "## 넘파이배열의 자료형 형변환\r\n",
    "배열명2 = 배열명1.astype(자료형)\r\n",
    "자료형 = np.float64, np.int32"
   ]
  },
  {
   "cell_type": "code",
   "execution_count": null,
   "id": "367dda30-35ab-470e-90a9-c7f315cb25fe",
   "metadata": {},
   "outputs": [],
   "source": [
    "matrix1 = np.arange(1, 10)\n",
    "matrix1, matrix1.dtype"
   ]
  },
  {
   "cell_type": "code",
   "execution_count": null,
   "id": "29a9726f-a6a2-4b2b-9657-6d28d4751a75",
   "metadata": {},
   "outputs": [],
   "source": [
    "# 정수형, 3행 3열\n",
    "matrix = np.arange(1, 10).reshape(3,3)\n",
    "matrix, matrix.dtype"
   ]
  },
  {
   "cell_type": "code",
   "execution_count": null,
   "id": "cb4c85a8-4b78-47ed-83e3-7d5ac09de4da",
   "metadata": {},
   "outputs": [],
   "source": [
    "# 실수형, 3행 3열\n",
    "matrix = np.arange(1, 10, dtype=float).reshape(3,3)\n",
    "matrix, matrix.dtype"
   ]
  },
  {
   "cell_type": "code",
   "execution_count": null,
   "id": "ec1d184d-c347-41ab-9c74-c24f08fe1d61",
   "metadata": {},
   "outputs": [],
   "source": [
    "# 문자열형, 3행 3열 -> 불가\n",
    "matrix = np.arange(1, 10, dtype='str').reshape(3,3)\n",
    "matrix, matrix.dtype"
   ]
  },
  {
   "cell_type": "code",
   "execution_count": null,
   "id": "730bb03c-9120-4f3c-9b5e-7be6cfd18696",
   "metadata": {},
   "outputs": [],
   "source": [
    "# 정수형 => 문자열\n",
    "matrix.astype('<U5')"
   ]
  },
  {
   "cell_type": "code",
   "execution_count": null,
   "id": "95c6ce79-6b44-4bc3-bcba-203876547f4b",
   "metadata": {},
   "outputs": [],
   "source": [
    "# 논리형으로 구성된 넘파이 배열 생성\n",
    "matrix2 = np.array([True, False, True, True])\n",
    "matrix2, matrix2.dtype"
   ]
  },
  {
   "cell_type": "code",
   "execution_count": null,
   "id": "5e78143b-59f5-45d0-baf2-991338448a5e",
   "metadata": {},
   "outputs": [],
   "source": [
    "# 불린 -> 정수\n",
    "matrix2.astype(int)"
   ]
  },
  {
   "cell_type": "code",
   "execution_count": null,
   "id": "77377666-a4f5-4a2e-b9eb-73d4e0f20380",
   "metadata": {},
   "outputs": [],
   "source": [
    "# 불린형 -> 문자열\n",
    "matrix2.astype('<U5')"
   ]
  },
  {
   "cell_type": "code",
   "execution_count": null,
   "id": "f20d13af-5d13-42d6-8043-5ded9ac48eef",
   "metadata": {},
   "outputs": [],
   "source": [
    "# 문자열 숫자 => 정수 , 실수\n",
    "matrix3 = np.array(['3.14', '5.5', '0.78'])\n",
    "matrix3, matrix3.dtype"
   ]
  },
  {
   "cell_type": "code",
   "execution_count": null,
   "id": "00bd5b99-27fe-4aaa-8922-5a2ebc62e204",
   "metadata": {},
   "outputs": [],
   "source": [
    "print(matrix3.astype(float))\n",
    "\n",
    "print(matrix3.astype(int)) # 불가\n",
    "print(matrix3.astype(bool)) # 불가"
   ]
  },
  {
   "cell_type": "markdown",
   "id": "feb3e218-fdf0-4337-9973-dee6425a1074",
   "metadata": {},
   "source": [
    "## 넘파이 배열의 인덱싱\r\n",
    "넘파이배열[index] 넘파이배열[i, j], 넘파이배열[i][j] : i행 j 열"
   ]
  },
  {
   "cell_type": "code",
   "execution_count": null,
   "id": "d537188b-59af-4dcf-948b-dbc243762d6a",
   "metadata": {},
   "outputs": [],
   "source": [
    "a = np.array([1, 3, 5, 7, 9])\n",
    "a, a.ndim, a.shape, a.size"
   ]
  },
  {
   "cell_type": "code",
   "execution_count": null,
   "id": "33e8218d-9842-4d66-a858-17bc3a795268",
   "metadata": {},
   "outputs": [],
   "source": [
    "a[0]\n"
   ]
  },
  {
   "cell_type": "code",
   "execution_count": null,
   "id": "1e4ac897-4f9c-4365-abff-3c310e9ccd7e",
   "metadata": {},
   "outputs": [],
   "source": [
    "a[2]\n"
   ]
  },
  {
   "cell_type": "code",
   "execution_count": null,
   "id": "be1b31b2-8a94-44f6-ae60-8e2422bca4ea",
   "metadata": {},
   "outputs": [],
   "source": [
    "a[[0, 2, 4]]"
   ]
  },
  {
   "cell_type": "code",
   "execution_count": null,
   "id": "6d3422b5-c8c3-4885-ac1b-7d8b6f35ad21",
   "metadata": {},
   "outputs": [],
   "source": [
    "# 행렬 구조로 인덱싱도 가능하다\n",
    "b = np.array( [[1,3], [4,2]] )\n",
    "b"
   ]
  },
  {
   "cell_type": "code",
   "execution_count": null,
   "id": "0656e1b1-96bc-4661-b0ee-facffda313e5",
   "metadata": {},
   "outputs": [],
   "source": [
    "a[b]"
   ]
  },
  {
   "cell_type": "code",
   "execution_count": null,
   "id": "de0242dd-9860-4156-9df0-851ebe43be60",
   "metadata": {},
   "outputs": [],
   "source": [
    "a[2] = 0\n",
    "a"
   ]
  },
  {
   "cell_type": "markdown",
   "id": "093edb97-6b12-4802-aef5-cf1bec7ed778",
   "metadata": {},
   "source": [
    "## 인덱싱 슬라이싱\n",
    "a = np.arange(10, 25).reshape(3, 5)\r\n",
    "a, a.ndim, a.shape, a.size"
   ]
  },
  {
   "cell_type": "code",
   "execution_count": null,
   "id": "d9b895e8-a4ef-4cfb-a8ff-5b64b20f519c",
   "metadata": {},
   "outputs": [],
   "source": [
    "a = np.arange(10, 25).reshape(3, 5)\n",
    "a, a.ndim, a.shape, a.size"
   ]
  },
  {
   "cell_type": "markdown",
   "id": "206ea560-cbd0-479b-af92-e45841313a3f",
   "metadata": {},
   "source": [
    "## 넘파이배열 슬라이싱\r\n",
    "1차원\r\n",
    "넘파이배열[:end]\r\n",
    "넘파이배열[start:]\r\n",
    "넘파이배열[start:end]\r\n",
    "넘파이배열[start:end:step]\r\n",
    "\r\n",
    "2차원\r\n",
    "\r\n",
    "넘파이배열[행, 열] = [start:end:step, start2:end2:step2]"
   ]
  },
  {
   "cell_type": "code",
   "execution_count": null,
   "id": "8a6f32ef-df76-46b4-87e5-86546950a1e8",
   "metadata": {},
   "outputs": [],
   "source": [
    "a = np.array([1, 3, 5, 7, 9])\n",
    "a, a.ndim, a.shape, a.size"
   ]
  },
  {
   "cell_type": "code",
   "execution_count": null,
   "id": "2e31b242-7676-4c13-a569-86a2f1c9ee5a",
   "metadata": {},
   "outputs": [],
   "source": [
    "a[:]\n"
   ]
  },
  {
   "cell_type": "code",
   "execution_count": null,
   "id": "5250163e-c154-4671-b830-19f073a825ae",
   "metadata": {},
   "outputs": [],
   "source": [
    " a[1:]\n"
   ]
  },
  {
   "cell_type": "code",
   "execution_count": null,
   "id": "1694182c-cb7a-447e-a99e-d6c0db980138",
   "metadata": {},
   "outputs": [],
   "source": [
    "a[-1:]\n"
   ]
  },
  {
   "cell_type": "code",
   "execution_count": null,
   "id": "b3cb83e0-b8d8-42fd-a856-1baf41fa557b",
   "metadata": {},
   "outputs": [],
   "source": [
    "a[:3]\n"
   ]
  },
  {
   "cell_type": "code",
   "execution_count": null,
   "id": "c1e76107-6f5f-4719-87a3-826b4e7fad1d",
   "metadata": {},
   "outputs": [],
   "source": [
    "a[:-1]\n"
   ]
  },
  {
   "cell_type": "code",
   "execution_count": null,
   "id": "7652fb19-de74-4de7-974c-8014b9878ec5",
   "metadata": {},
   "outputs": [],
   "source": [
    "a[1:4]\n"
   ]
  },
  {
   "cell_type": "code",
   "execution_count": null,
   "id": "b0445cf1-5b88-4b04-8ffa-1cd04b9b4f3b",
   "metadata": {},
   "outputs": [],
   "source": [
    "a = np.arange(10)\n",
    "a"
   ]
  },
  {
   "cell_type": "code",
   "execution_count": null,
   "id": "95f1629d-0a3d-42ed-b072-94ab0e5f619a",
   "metadata": {},
   "outputs": [],
   "source": [
    "a = np.arange(10)\n",
    "a[1::2]"
   ]
  },
  {
   "cell_type": "code",
   "execution_count": null,
   "id": "4922f4c3-a943-4343-ba31-bec25ce6f1c0",
   "metadata": {},
   "outputs": [],
   "source": [
    "a = np.arange(10)\n",
    "a[::-1]"
   ]
  },
  {
   "cell_type": "markdown",
   "id": "1bbb8990-bf61-4235-a75d-0a0093e3b83f",
   "metadata": {},
   "source": [
    "### 2D array"
   ]
  },
  {
   "cell_type": "code",
   "execution_count": null,
   "id": "679da2a2-adea-4c38-bce0-c8d1e4375d27",
   "metadata": {},
   "outputs": [],
   "source": [
    "a = np.arange(10, 25).reshape(3, 5)\n",
    "a, a.ndim, a.shape, a.size"
   ]
  },
  {
   "cell_type": "code",
   "execution_count": null,
   "id": "a05f04f5-a1fb-40bb-bdcb-5ee83b08cd94",
   "metadata": {},
   "outputs": [],
   "source": [
    "a[-1, -1]"
   ]
  },
  {
   "cell_type": "code",
   "execution_count": null,
   "id": "8e7901a4-63dc-4221-9d34-625ee3bb59ce",
   "metadata": {},
   "outputs": [],
   "source": [
    "a[1:]"
   ]
  },
  {
   "cell_type": "code",
   "execution_count": null,
   "id": "ece2c923-b40c-4fad-bc9e-390e88c1885b",
   "metadata": {},
   "outputs": [],
   "source": [
    "a[:-3]"
   ]
  },
  {
   "cell_type": "code",
   "execution_count": null,
   "id": "cdb14e42-b477-462f-ae4c-5942d50f7171",
   "metadata": {},
   "outputs": [],
   "source": [
    "a[:]"
   ]
  },
  {
   "cell_type": "code",
   "execution_count": null,
   "id": "5f3b4014-aa63-4146-b5af-d8724c159697",
   "metadata": {},
   "outputs": [],
   "source": [
    "a[1:-1]"
   ]
  },
  {
   "cell_type": "code",
   "execution_count": null,
   "id": "ce23e895-0c98-4db3-ad46-28299de6e8f9",
   "metadata": {},
   "outputs": [],
   "source": [
    "a[:,:]"
   ]
  },
  {
   "cell_type": "code",
   "execution_count": null,
   "id": "e45e6bd5-4ce9-475f-9848-742122191653",
   "metadata": {},
   "outputs": [],
   "source": [
    "a[:,1:]"
   ]
  },
  {
   "cell_type": "code",
   "execution_count": null,
   "id": "1e77ed8a-381e-4265-bcc1-a52d43657317",
   "metadata": {},
   "outputs": [],
   "source": [
    "a[:, 4:]"
   ]
  },
  {
   "cell_type": "code",
   "execution_count": null,
   "id": "c17ef1e7-d5cf-40d8-802c-6079d60849c1",
   "metadata": {},
   "outputs": [],
   "source": [
    "a[:, -1:]"
   ]
  },
  {
   "cell_type": "code",
   "execution_count": null,
   "id": "e244fead-29c0-44be-8dc2-3d2dbdc93a3d",
   "metadata": {},
   "outputs": [],
   "source": [
    "a[1:, 2:3]"
   ]
  },
  {
   "cell_type": "code",
   "execution_count": null,
   "id": "89302342-0a65-4891-9769-7c482373e0b6",
   "metadata": {},
   "outputs": [],
   "source": [
    "a[:2, 1:4]\n",
    "a[:-1, 1:-1]"
   ]
  },
  {
   "cell_type": "code",
   "execution_count": null,
   "id": "d47144d1-0283-4f92-8bd3-59a605fcfb59",
   "metadata": {},
   "outputs": [],
   "source": [
    "a[1, 2]"
   ]
  },
  {
   "cell_type": "code",
   "execution_count": null,
   "id": "13891902-856d-4521-8048-951985a2a3cc",
   "metadata": {},
   "outputs": [],
   "source": [
    "import numpy as np\n",
    "b= np.array([[3]])\n",
    "print(b.shape)\n",
    "print(b.ndim)"
   ]
  },
  {
   "cell_type": "code",
   "execution_count": null,
   "id": "c3ad5cb4-47ff-4e0e-995c-77bce5b8e782",
   "metadata": {},
   "outputs": [],
   "source": [
    "a = np.arange(15).reshape(3, -1)\n",
    "a"
   ]
  },
  {
   "cell_type": "code",
   "execution_count": null,
   "id": "4eb93869-0687-42ee-ad1a-2d9e56cb5c99",
   "metadata": {},
   "outputs": [],
   "source": [
    "a[1] = [1, 3, 5, 7, 9]\n",
    "a"
   ]
  },
  {
   "cell_type": "markdown",
   "id": "b16fe7e9-892b-4fe0-aef9-52def945e9b8",
   "metadata": {},
   "source": [
    "## 전치행렬"
   ]
  },
  {
   "cell_type": "code",
   "execution_count": null,
   "id": "00ba9655-fd24-4e93-bb1f-7e06f906de59",
   "metadata": {},
   "outputs": [],
   "source": [
    "# 3행 2열\n",
    "matrix_d = np.arange(1,7).reshape(3,2)\n",
    "matrix_d"
   ]
  },
  {
   "cell_type": "code",
   "execution_count": null,
   "id": "be0bc364-58a0-4bad-b753-4c0a5e84bb3b",
   "metadata": {},
   "outputs": [],
   "source": [
    "# 2행 3열로 변환\n",
    "print(matrix_d.T) #transpose"
   ]
  },
  {
   "cell_type": "code",
   "execution_count": null,
   "id": "edb16dc5-43b3-45a8-982c-1bfb952a25b3",
   "metadata": {},
   "outputs": [],
   "source": [
    "# reshape과 transpose은 값이 다름을 유의\n",
    "print(matrix_d.reshape(2,3)) #flatten이 선행되는 reshape\n",
    "# 구조를 바꾸기 위해서 쫙 펴주고, 다시 그걸 재구성하는 형태이기 때문이다"
   ]
  },
  {
   "cell_type": "code",
   "execution_count": null,
   "id": "fbaeb3a2-0de6-4bc5-858c-1d8485cda2a9",
   "metadata": {},
   "outputs": [],
   "source": [
    "# 1~10 사이의 숫자중에서 10개 출력\n",
    "np.random.randint(1, 10, 10)"
   ]
  },
  {
   "cell_type": "code",
   "execution_count": null,
   "id": "87877b35-6ada-4f1c-9d0b-39d0ca663f33",
   "metadata": {},
   "outputs": [],
   "source": [
    "# 2행 5열로 츨력\n",
    "np.random.randint(1, 10, (2,5)) #구조를 줄 수 있다. Numpy의 특징. 기본적으로 행열 개념이 있기 때문이다"
   ]
  },
  {
   "cell_type": "markdown",
   "id": "72e397cd-39bd-4d7f-9dd7-3cb6bd847771",
   "metadata": {},
   "source": [
    "## 섞기"
   ]
  },
  {
   "cell_type": "code",
   "execution_count": 19,
   "id": "03d47646-fd78-4538-a776-6dd8fecc766a",
   "metadata": {},
   "outputs": [
    {
     "name": "stdout",
     "output_type": "stream",
     "text": [
      "[5 1 3 4 2]\n"
     ]
    }
   ],
   "source": [
    "arr = np.array([1, 2, 3, 4, 5])\n",
    "np.random.shuffle(arr)\n",
    "print(arr)"
   ]
  },
  {
   "cell_type": "code",
   "execution_count": 22,
   "id": "b5bbddd3-434f-490b-b2c9-b4ace512037b",
   "metadata": {},
   "outputs": [
    {
     "name": "stdout",
     "output_type": "stream",
     "text": [
      "Shuffled (in-place): [5 3 1 4 2]\n",
      "Original: [1 2 3 4 5]\n",
      "Permutation: [2 1 5 3 4]\n",
      "Original array:\n",
      "[ 1  2  3  4  5  6  7  8  9 10 11 12]\n",
      "Reshaped array:\n",
      "[[ 1  2  3  4]\n",
      " [ 5  6  7  8]\n",
      " [ 9 10 11 12]]\n",
      "Original matrix:\n",
      "[[1 2 3]\n",
      " [4 5 6]]\n",
      "Transposed matrix:\n",
      "[[1 4]\n",
      " [2 5]\n",
      " [3 6]]\n"
     ]
    }
   ],
   "source": [
    "import numpy as np\n",
    "\n",
    "# 원본 배열\n",
    "arr = np.array([1, 2, 3, 4, 5])\n",
    "\n",
    "# np.random.shuffle\n",
    "np.random.shuffle(arr)\n",
    "print(\"Shuffled (in-place):\", arr)\n",
    "\n",
    "# np.random.permutation\n",
    "arr = np.array([1, 2, 3, 4, 5])\n",
    "shuffled_arr = np.random.permutation(arr)\n",
    "print(\"Original:\", arr)\n",
    "print(\"Permutation:\", shuffled_arr)\n",
    "\n",
    "# reshape\n",
    "original = np.arange(1, 13)\n",
    "reshaped = original.reshape(3, 4)\n",
    "print(\"Original array:\")\n",
    "print(original)\n",
    "print(\"Reshaped array:\")\n",
    "print(reshaped)\n",
    "\n",
    "# matrix_d.T\n",
    "matrix_d = np.array([[1, 2, 3], [4, 5, 6]])\n",
    "transposed = matrix_d.T\n",
    "print(\"Original matrix:\")\n",
    "print(matrix_d)\n",
    "print(\"Transposed matrix:\")\n",
    "print(transposed)\n"
   ]
  },
  {
   "cell_type": "code",
   "execution_count": 31,
   "id": "4dc5c2e1-f4c9-4623-9725-f35b1c97e696",
   "metadata": {},
   "outputs": [
    {
     "name": "stdout",
     "output_type": "stream",
     "text": [
      "[[7 8 9]\n",
      " [4 5 6]\n",
      " [1 2 3]]\n"
     ]
    }
   ],
   "source": [
    "import numpy as np\n",
    "\n",
    "matrix = np.array([[1, 2, 3], [4, 5, 6], [7, 8, 9]])\n",
    "np.random.shuffle(matrix)\n",
    "print(matrix)  # 행이 무작위로 섞임, 열은 그대로"
   ]
  },
  {
   "cell_type": "code",
   "execution_count": null,
   "id": "d4befd17-57ce-429a-ba4f-55d78b237327",
   "metadata": {},
   "outputs": [],
   "source": [
    "# 10개 무작위 값 만들기\n",
    "matrix_e = np.arange(1,11)\n",
    "matrix_e"
   ]
  },
  {
   "cell_type": "code",
   "execution_count": null,
   "id": "913bd1c1-d7fa-48d0-8a78-815ac3e2e8cf",
   "metadata": {},
   "outputs": [],
   "source": [
    "np.random.shuffle(matrix_e)\n",
    "matrix_e"
   ]
  },
  {
   "cell_type": "code",
   "execution_count": null,
   "id": "60054e12-025a-48f4-ba17-84f214ac2998",
   "metadata": {},
   "outputs": [],
   "source": [
    "num= np.arange(1,46)\n",
    "np.random.shuffle(num)\n",
    "num[:6]"
   ]
  },
  {
   "cell_type": "code",
   "execution_count": null,
   "id": "6ccf3c72-b6d9-4e53-a15e-d196a5570c21",
   "metadata": {},
   "outputs": [],
   "source": [
    "np.random.randint(1,46,6)"
   ]
  },
  {
   "cell_type": "code",
   "execution_count": 35,
   "id": "0a7cb69d-8f08-430b-a7b0-91c4584fe82e",
   "metadata": {
    "collapsed": true,
    "jupyter": {
     "outputs_hidden": true
    },
    "scrolled": true
   },
   "outputs": [
    {
     "data": {
      "text/plain": [
       "array([12, 34, 40, 14, 19,  1])"
      ]
     },
     "execution_count": 35,
     "metadata": {},
     "output_type": "execute_result"
    }
   ],
   "source": [
    "lotto= np.arange(1, 46)\n",
    "\n",
    "np.random.shuffle(lotto)\n",
    "\n",
    "lotto[:6]"
   ]
  },
  {
   "cell_type": "code",
   "execution_count": 49,
   "id": "41154702-c49e-44f0-9860-52148c39ea66",
   "metadata": {
    "scrolled": true
   },
   "outputs": [
    {
     "data": {
      "text/plain": [
       "array([ 9, 12, 28, 31, 19, 14])"
      ]
     },
     "execution_count": 49,
     "metadata": {},
     "output_type": "execute_result"
    }
   ],
   "source": [
    "a = np.arange(1,46)\n",
    "np.random.seed(123)\n",
    "np.random.shuffle(a)\n",
    "\n",
    "a[:6]"
   ]
  },
  {
   "cell_type": "code",
   "execution_count": 50,
   "id": "26f4096f-95c3-4c1c-9ad1-dc5caded4c13",
   "metadata": {},
   "outputs": [
    {
     "data": {
      "text/plain": [
       "array([34, 32, 42, 35, 24, 16])"
      ]
     },
     "execution_count": 50,
     "metadata": {},
     "output_type": "execute_result"
    }
   ],
   "source": [
    "a = np.arange(1,46)\n",
    "np.random.seed(124)\n",
    "np.random.shuffle(a)\n",
    "\n",
    "a[:6]"
   ]
  },
  {
   "cell_type": "code",
   "execution_count": 51,
   "id": "34acb413-354a-4060-be83-f522b884b556",
   "metadata": {},
   "outputs": [
    {
     "data": {
      "text/plain": [
       "array([ 9, 12, 28, 31, 19, 14])"
      ]
     },
     "execution_count": 51,
     "metadata": {},
     "output_type": "execute_result"
    }
   ],
   "source": [
    "a = np.arange(1,46)\n",
    "np.random.seed(123)\n",
    "np.random.shuffle(a)\n",
    "\n",
    "a[:6]"
   ]
  },
  {
   "cell_type": "code",
   "execution_count": 41,
   "id": "67a79970-0519-43f0-bd71-4dbd60c6c3f7",
   "metadata": {},
   "outputs": [
    {
     "data": {
      "text/plain": [
       "array([ 3, 25, 28,  5, 21,  8])"
      ]
     },
     "execution_count": 41,
     "metadata": {},
     "output_type": "execute_result"
    }
   ],
   "source": [
    "np.random.randint(1, 46, 6)"
   ]
  },
  {
   "cell_type": "markdown",
   "id": "53166674-a9bc-431d-b666-27eeaeb5cdfb",
   "metadata": {},
   "source": [
    "## 실수 난수 뽑기"
   ]
  },
  {
   "cell_type": "code",
   "execution_count": 44,
   "id": "f566a4d2-e31a-43f1-9006-92d503e581b3",
   "metadata": {},
   "outputs": [
    {
     "data": {
      "text/plain": [
       "array([-0.52616596,  0.08185979,  0.64338169, -0.52619876,  2.41146705,\n",
       "       -1.01305803,  1.55122901,  0.39544848,  0.93869697,  0.57193557])"
      ]
     },
     "execution_count": 44,
     "metadata": {},
     "output_type": "execute_result"
    }
   ],
   "source": [
    "matrix1 = np.random.randn(10) # 표준정규분포 0 ~ 분산1\n",
    "matrix1"
   ]
  },
  {
   "cell_type": "code",
   "execution_count": 42,
   "id": "d9722666-987a-431a-960b-9e601b01c3a4",
   "metadata": {},
   "outputs": [
    {
     "data": {
      "text/plain": [
       "array([[ 0.70676632, -0.865555  ,  1.40418861, -0.21914846],\n",
       "       [-0.0491101 ,  0.16141706, -0.26839665, -0.9105824 ],\n",
       "       [ 0.35681942, -1.08959682,  1.71852703, -0.0631444 ],\n",
       "       [ 1.0543843 , -0.01368721,  1.16498737, -1.04751292]])"
      ]
     },
     "execution_count": 42,
     "metadata": {},
     "output_type": "execute_result"
    }
   ],
   "source": [
    "matrix2 = np.random.randn(4, 4)\n",
    "matrix2"
   ]
  },
  {
   "cell_type": "code",
   "execution_count": 45,
   "id": "d071df8b-d94b-4eba-bd3c-e359dac91ed3",
   "metadata": {},
   "outputs": [
    {
     "data": {
      "text/plain": [
       "(2.411467048720304, -1.0130580346322664)"
      ]
     },
     "execution_count": 45,
     "metadata": {},
     "output_type": "execute_result"
    }
   ],
   "source": [
    "matrix1.max(), matrix1.min()"
   ]
  },
  {
   "cell_type": "code",
   "execution_count": null,
   "id": "be783cb7-e24b-4235-8e9b-be626f6d6146",
   "metadata": {},
   "outputs": [],
   "source": [
    "matrix2 = np.random.choice?"
   ]
  },
  {
   "cell_type": "markdown",
   "id": "4cf90b15-1d84-4107-b7d6-f6650c857780",
   "metadata": {},
   "source": [
    "## 집계함수에서의 축"
   ]
  },
  {
   "cell_type": "code",
   "execution_count": 52,
   "id": "fc40bee5-7eaf-4546-96d4-917a6be762ed",
   "metadata": {},
   "outputs": [
    {
     "data": {
      "text/plain": [
       "array([[ 4, 43,  6,  1, 12],\n",
       "       [35, 11, 23, 14, 19],\n",
       "       [37, 16, 44, 28, 45],\n",
       "       [31,  7, 46, 27, 17],\n",
       "       [ 7, 15, 40, 12,  8]])"
      ]
     },
     "execution_count": 52,
     "metadata": {},
     "output_type": "execute_result"
    }
   ],
   "source": [
    "m1 = np.random.randint(1, 50, (5,5))\n",
    "m1"
   ]
  },
  {
   "cell_type": "code",
   "execution_count": 53,
   "id": "99836205-a9b9-447b-a28d-8614cbcc9218",
   "metadata": {},
   "outputs": [
    {
     "data": {
      "text/plain": [
       "array([114,  92, 159,  82, 101])"
      ]
     },
     "execution_count": 53,
     "metadata": {},
     "output_type": "execute_result"
    }
   ],
   "source": [
    "np.sum(m1, axis=0) # (x)열 합계 로 고쳐서 외우는게 나을듯"
   ]
  },
  {
   "cell_type": "code",
   "execution_count": 54,
   "id": "b65350cf-10b4-46cd-84a8-887b6d81a804",
   "metadata": {},
   "outputs": [
    {
     "data": {
      "text/plain": [
       "array([ 66, 102, 170, 128,  82])"
      ]
     },
     "execution_count": 54,
     "metadata": {},
     "output_type": "execute_result"
    }
   ],
   "source": [
    "np.sum(m1, axis=1) # (y)행 합계"
   ]
  },
  {
   "cell_type": "code",
   "execution_count": 57,
   "id": "96fee6c6-f6a0-4ca3-b721-61feba22ebc0",
   "metadata": {},
   "outputs": [
    {
     "data": {
      "text/plain": [
       "66"
      ]
     },
     "execution_count": 57,
     "metadata": {},
     "output_type": "execute_result"
    }
   ],
   "source": [
    "# 1번째행의 합계는\n",
    "np.sum(m1[0,:])"
   ]
  },
  {
   "cell_type": "code",
   "execution_count": 58,
   "id": "2882241f-ee4f-45bc-8a7b-1e02c48af239",
   "metadata": {
    "collapsed": true,
    "jupyter": {
     "outputs_hidden": true
    }
   },
   "outputs": [
    {
     "data": {
      "text/plain": [
       "66"
      ]
     },
     "execution_count": 58,
     "metadata": {},
     "output_type": "execute_result"
    }
   ],
   "source": [
    "# 1번째행의 합계는\n",
    "np.sum(m1[0,:], axis=0) # x축(행 방향) 합계"
   ]
  },
  {
   "cell_type": "code",
   "execution_count": 59,
   "id": "00b5ac75-547c-486d-9d15-2a21c574204a",
   "metadata": {},
   "outputs": [
    {
     "ename": "AxisError",
     "evalue": "axis 1 is out of bounds for array of dimension 1",
     "output_type": "error",
     "traceback": [
      "\u001b[1;31m---------------------------------------------------------------------------\u001b[0m",
      "\u001b[1;31mAxisError\u001b[0m                                 Traceback (most recent call last)",
      "Cell \u001b[1;32mIn[59], line 1\u001b[0m\n\u001b[1;32m----> 1\u001b[0m np\u001b[38;5;241m.\u001b[39msum(m1[\u001b[38;5;241m0\u001b[39m,:], axis\u001b[38;5;241m=\u001b[39m\u001b[38;5;241m1\u001b[39m)\n",
      "File \u001b[1;32m~\\anaconda3-\\Lib\\site-packages\\numpy\\core\\fromnumeric.py:2313\u001b[0m, in \u001b[0;36msum\u001b[1;34m(a, axis, dtype, out, keepdims, initial, where)\u001b[0m\n\u001b[0;32m   2310\u001b[0m         \u001b[38;5;28;01mreturn\u001b[39;00m out\n\u001b[0;32m   2311\u001b[0m     \u001b[38;5;28;01mreturn\u001b[39;00m res\n\u001b[1;32m-> 2313\u001b[0m \u001b[38;5;28;01mreturn\u001b[39;00m _wrapreduction(a, np\u001b[38;5;241m.\u001b[39madd, \u001b[38;5;124m'\u001b[39m\u001b[38;5;124msum\u001b[39m\u001b[38;5;124m'\u001b[39m, axis, dtype, out, keepdims\u001b[38;5;241m=\u001b[39mkeepdims,\n\u001b[0;32m   2314\u001b[0m                       initial\u001b[38;5;241m=\u001b[39minitial, where\u001b[38;5;241m=\u001b[39mwhere)\n",
      "File \u001b[1;32m~\\anaconda3-\\Lib\\site-packages\\numpy\\core\\fromnumeric.py:88\u001b[0m, in \u001b[0;36m_wrapreduction\u001b[1;34m(obj, ufunc, method, axis, dtype, out, **kwargs)\u001b[0m\n\u001b[0;32m     85\u001b[0m         \u001b[38;5;28;01melse\u001b[39;00m:\n\u001b[0;32m     86\u001b[0m             \u001b[38;5;28;01mreturn\u001b[39;00m reduction(axis\u001b[38;5;241m=\u001b[39maxis, out\u001b[38;5;241m=\u001b[39mout, \u001b[38;5;241m*\u001b[39m\u001b[38;5;241m*\u001b[39mpasskwargs)\n\u001b[1;32m---> 88\u001b[0m \u001b[38;5;28;01mreturn\u001b[39;00m ufunc\u001b[38;5;241m.\u001b[39mreduce(obj, axis, dtype, out, \u001b[38;5;241m*\u001b[39m\u001b[38;5;241m*\u001b[39mpasskwargs)\n",
      "\u001b[1;31mAxisError\u001b[0m: axis 1 is out of bounds for array of dimension 1"
     ]
    }
   ],
   "source": [
    "np.sum(m1[0,:], axis=1)"
   ]
  },
  {
   "cell_type": "code",
   "execution_count": null,
   "id": "377388c6-3b60-4ea9-a03b-2fb7ea79812f",
   "metadata": {},
   "outputs": [],
   "source": [
    "m1[2, : ]\n",
    "np.sum(m1[ : ,2 ], axis=0)"
   ]
  },
  {
   "cell_type": "markdown",
   "id": "4ba8974f-5e57-4a4e-9197-effedafe01b4",
   "metadata": {},
   "source": [
    "## np.sort()"
   ]
  },
  {
   "cell_type": "code",
   "execution_count": 60,
   "id": "68c42d28-3e89-4436-8a1c-3c84fe228f9f",
   "metadata": {
    "collapsed": true,
    "jupyter": {
     "outputs_hidden": true
    }
   },
   "outputs": [
    {
     "name": "stdout",
     "output_type": "stream",
     "text": [
      "원본 배열: [3 1 2 4 5]\n",
      "정렬된 배열: [1 2 3 4 5]\n"
     ]
    }
   ],
   "source": [
    "import numpy as np\n",
    "\n",
    "arr = np.array([3, 1, 2, 4, 5])\n",
    "sorted_arr = np.sort(arr)\n",
    "print(\"원본 배열:\", arr)\n",
    "print(\"정렬된 배열:\", sorted_arr)\n"
   ]
  },
  {
   "cell_type": "code",
   "execution_count": 61,
   "id": "fa1a838f-b572-47aa-956a-af9590db8e24",
   "metadata": {},
   "outputs": [
    {
     "name": "stdout",
     "output_type": "stream",
     "text": [
      "원본 배열:\n",
      "[[3 1 2]\n",
      " [4 5 0]]\n",
      "각 행을 정렬한 배열:\n",
      "[[1 2 3]\n",
      " [0 4 5]]\n",
      "각 열을 정렬한 배열:\n",
      "[[3 1 0]\n",
      " [4 5 2]]\n"
     ]
    }
   ],
   "source": [
    "import numpy as np\n",
    "\n",
    "arr = np.array([[3, 1, 2], [4, 5, 0]])\n",
    "sorted_arr = np.sort(arr, axis=1)  # 각 행을 정렬\n",
    "print(\"원본 배열:\")\n",
    "print(arr)\n",
    "print(\"각 행을 정렬한 배열:\")\n",
    "print(sorted_arr)\n",
    "\n",
    "sorted_arr = np.sort(arr, axis=0)  # 각 열을 정렬\n",
    "print(\"각 열을 정렬한 배열:\")\n",
    "print(sorted_arr)"
   ]
  },
  {
   "cell_type": "code",
   "execution_count": 62,
   "id": "fb33e65f-07de-4a87-98dc-59208b89ece1",
   "metadata": {},
   "outputs": [
    {
     "data": {
      "text/plain": [
       "array([[ 2, 44, 38],\n",
       "       [26, 21, 13],\n",
       "       [19, 18,  2],\n",
       "       [45, 42, 49]])"
      ]
     },
     "execution_count": 62,
     "metadata": {},
     "output_type": "execute_result"
    }
   ],
   "source": [
    "# 정수 난수로 구성된 4x3\n",
    "m2 = np.random.randint(1, 50,(4,3))\n",
    "m2"
   ]
  },
  {
   "cell_type": "code",
   "execution_count": 63,
   "id": "114d1549-ea8f-4a0e-8683-ee969bdcd25a",
   "metadata": {},
   "outputs": [
    {
     "data": {
      "text/plain": [
       "array([[ 2, 38, 44],\n",
       "       [13, 21, 26],\n",
       "       [ 2, 18, 19],\n",
       "       [42, 45, 49]])"
      ]
     },
     "execution_count": 63,
     "metadata": {},
     "output_type": "execute_result"
    }
   ],
   "source": [
    "np.sort(m2)"
   ]
  },
  {
   "cell_type": "code",
   "execution_count": 64,
   "id": "fe559772-03e9-44d5-9d1e-f149f1180f84",
   "metadata": {},
   "outputs": [
    {
     "data": {
      "text/plain": [
       "array([[ 2, 18,  2],\n",
       "       [19, 21, 13],\n",
       "       [26, 42, 38],\n",
       "       [45, 44, 49]])"
      ]
     },
     "execution_count": 64,
     "metadata": {},
     "output_type": "execute_result"
    }
   ],
   "source": [
    "np.sort(m2, axis=0)"
   ]
  },
  {
   "cell_type": "code",
   "execution_count": 65,
   "id": "cfb1bf2e-e99d-45ee-bedd-273a909828ae",
   "metadata": {
    "scrolled": true
   },
   "outputs": [
    {
     "data": {
      "text/plain": [
       "array([[45, 42, 49],\n",
       "       [19, 18,  2],\n",
       "       [26, 21, 13],\n",
       "       [ 2, 44, 38]])"
      ]
     },
     "execution_count": 65,
     "metadata": {},
     "output_type": "execute_result"
    }
   ],
   "source": [
    "m2[::-1, ::] # 행전체가 역순으로 바뀌는 것과는 다르다"
   ]
  },
  {
   "cell_type": "code",
   "execution_count": 66,
   "id": "4407be06-b07a-4c41-aba4-8ba6a07fed02",
   "metadata": {},
   "outputs": [
    {
     "name": "stdout",
     "output_type": "stream",
     "text": [
      "원본 배열 m1:\n",
      "[[28 23  4  4 12]\n",
      " [22 26 40 42 35]\n",
      " [ 4 12  4 31  7]\n",
      " [10 24 15 39 20]\n",
      " [ 7 13 28 39 18]]\n"
     ]
    }
   ],
   "source": [
    "import numpy as np\n",
    "\n",
    "m1 = np.random.randint(1, 50, (5, 5))\n",
    "print(\"원본 배열 m1:\")\n",
    "print(m1)\n"
   ]
  },
  {
   "cell_type": "code",
   "execution_count": 67,
   "id": "672239c2-52b0-4441-aee3-a3c36491b7cc",
   "metadata": {},
   "outputs": [
    {
     "name": "stdout",
     "output_type": "stream",
     "text": [
      "\n",
      "열별 합계 (axis=0):\n",
      "[ 71  98  91 155  92]\n"
     ]
    }
   ],
   "source": [
    "sum_by_columns = np.sum(m1, axis=0)\n",
    "print(\"\\n열별 합계 (axis=0):\")\n",
    "print(sum_by_columns)"
   ]
  },
  {
   "cell_type": "code",
   "execution_count": 68,
   "id": "cfc517b1-928f-4eae-86df-78de4d8147fd",
   "metadata": {},
   "outputs": [
    {
     "name": "stdout",
     "output_type": "stream",
     "text": [
      "\n",
      "행별 합계 (axis=1):\n",
      "[ 71 165  58 108 105]\n"
     ]
    }
   ],
   "source": [
    "sum_by_rows = np.sum(m1, axis=1)\n",
    "print(\"\\n행별 합계 (axis=1):\")\n",
    "print(sum_by_rows)\n"
   ]
  },
  {
   "cell_type": "code",
   "execution_count": 69,
   "id": "0ee93bfb-05d2-4278-b507-bd34b0163564",
   "metadata": {},
   "outputs": [
    {
     "name": "stdout",
     "output_type": "stream",
     "text": [
      "원본 배열 m2:\n",
      "[[47 11 36]\n",
      " [36  2 48]\n",
      " [46 17  6]\n",
      " [41 46 23]]\n"
     ]
    }
   ],
   "source": [
    "m2 = np.random.randint(1, 50, (4, 3))\n",
    "print(\"원본 배열 m2:\")\n",
    "print(m2)\n"
   ]
  },
  {
   "cell_type": "code",
   "execution_count": 70,
   "id": "4563a303-c0a1-4e00-958a-c5e0e620d95d",
   "metadata": {
    "collapsed": true,
    "jupyter": {
     "outputs_hidden": true
    }
   },
   "outputs": [
    {
     "name": "stdout",
     "output_type": "stream",
     "text": [
      "\n",
      "각 행을 따라 오름차순 정렬 (axis=1):\n",
      "[[11 36 47]\n",
      " [ 2 36 48]\n",
      " [ 6 17 46]\n",
      " [23 41 46]]\n"
     ]
    }
   ],
   "source": [
    "sorted_by_rows = np.sort(m2, axis=1)\n",
    "print(\"\\n각 행을 따라 오름차순 정렬 (axis=1):\")\n",
    "print(sorted_by_rows)\n"
   ]
  },
  {
   "cell_type": "code",
   "execution_count": 71,
   "id": "e16368a5-32fd-40ae-b9c1-a9dbb67cb98c",
   "metadata": {},
   "outputs": [
    {
     "name": "stdout",
     "output_type": "stream",
     "text": [
      "\n",
      "각 열을 따라 오름차순 정렬 (axis=0):\n",
      "[[36  2  6]\n",
      " [41 11 23]\n",
      " [46 17 36]\n",
      " [47 46 48]]\n"
     ]
    }
   ],
   "source": [
    "sorted_by_columns = np.sort(m2, axis=0)\n",
    "print(\"\\n각 열을 따라 오름차순 정렬 (axis=0):\")\n",
    "print(sorted_by_columns)\n"
   ]
  },
  {
   "cell_type": "markdown",
   "id": "ecd53746-2b1a-4503-acad-3f048c753365",
   "metadata": {},
   "source": [
    "## 인덱스 소팅"
   ]
  },
  {
   "cell_type": "code",
   "execution_count": null,
   "id": "9cbda43f-1e34-4102-8dde-02f2cea74ee4",
   "metadata": {},
   "outputs": [],
   "source": [
    "x = np.array([9,5,4])\n",
    "np.argsort(x)"
   ]
  },
  {
   "cell_type": "code",
   "execution_count": null,
   "id": "baf6d694-b8cb-47a7-bd46-13a4b7d5601e",
   "metadata": {},
   "outputs": [],
   "source": [
    "x[np.argsort(x)]"
   ]
  },
  {
   "cell_type": "code",
   "execution_count": null,
   "id": "df13f546-3bd0-4f30-8caa-ca53046c8ec9",
   "metadata": {},
   "outputs": [],
   "source": [
    "m4 = np.arange(1,10).reshape(3,3)\n",
    "m4"
   ]
  },
  {
   "cell_type": "code",
   "execution_count": null,
   "id": "36b874d6-a1f8-4855-b481-c1dc349ea5ae",
   "metadata": {},
   "outputs": [],
   "source": [
    "np.insert(m4, 0, 100)"
   ]
  },
  {
   "cell_type": "code",
   "execution_count": null,
   "id": "6c23f527-23c3-46c3-919b-16e804649712",
   "metadata": {},
   "outputs": [],
   "source": [
    "# 1열으로 [100,100,100] 삽입\n",
    "np.insert(m4, 0, 100, axis=1)"
   ]
  },
  {
   "cell_type": "code",
   "execution_count": 72,
   "id": "928ca5ec-e043-437e-8684-5edc0ff7a935",
   "metadata": {},
   "outputs": [
    {
     "data": {
      "text/plain": [
       "((3, 3), 3, 3)"
      ]
     },
     "execution_count": 72,
     "metadata": {},
     "output_type": "execute_result"
    }
   ],
   "source": [
    "m4 = np.arange(1,10).reshape(3,3)\n",
    "m4.shape, m4.shape[1], len(m4)"
   ]
  },
  {
   "cell_type": "code",
   "execution_count": 77,
   "id": "68a75dbb-31cd-4cad-94ae-7c8692b3b683",
   "metadata": {},
   "outputs": [
    {
     "data": {
      "text/plain": [
       "array([[  1,   2,   3,   4,   5, 100],\n",
       "       [  6,   7,   8,   9,  10, 200],\n",
       "       [ 11,  12,  13,  14,  15, 300],\n",
       "       [ 16,  17,  18,  19,  20, 400]])"
      ]
     },
     "execution_count": 77,
     "metadata": {},
     "output_type": "execute_result"
    }
   ],
   "source": [
    "m5 = np.arange(1,21).reshape(4,5)\n",
    "np.insert(m5, m5.shape[1], [100,200,300,400], axis=1)"
   ]
  },
  {
   "cell_type": "markdown",
   "id": "cc2e06b3-5148-41ea-a71f-ac628ff929fe",
   "metadata": {},
   "source": [
    "## boolean indexing, mask"
   ]
  },
  {
   "cell_type": "code",
   "execution_count": null,
   "id": "9cba3299-6e15-411f-8fe0-0f24ed2599f7",
   "metadata": {},
   "outputs": [],
   "source": [
    "matrix = np.arange(1, 21)\n",
    "matrix"
   ]
  },
  {
   "cell_type": "code",
   "execution_count": null,
   "id": "1c9bbfb2-6ca9-4f64-8f65-d58f1c746985",
   "metadata": {},
   "outputs": [],
   "source": [
    "matrix > 10"
   ]
  },
  {
   "cell_type": "code",
   "execution_count": null,
   "id": "ea89374f-4035-4b2e-a7db-96ea232d805f",
   "metadata": {},
   "outputs": [],
   "source": [
    "matrix[matrix > 10]"
   ]
  },
  {
   "cell_type": "code",
   "execution_count": null,
   "id": "41d56ce9-aed5-42e9-b4a9-d79cfa2dfbba",
   "metadata": {},
   "outputs": [],
   "source": [
    "(matrix > 10).sum()"
   ]
  },
  {
   "cell_type": "markdown",
   "id": "fa52bf61-9374-4cd5-b509-0394cc02fbfb",
   "metadata": {},
   "source": [
    "## Quiz : 1~100사이 난수 30개를 추출하여 넘파이 배열을 생성하고, 30보다 크거나 70보다 작은 수를 출력하라"
   ]
  },
  {
   "cell_type": "code",
   "execution_count": null,
   "id": "4f23a92f-d53a-42ee-a6bd-4e79a00d51b4",
   "metadata": {},
   "outputs": [],
   "source": [
    "matrix = np.random.randint(1, 100, 30)\n",
    "matrix[(matrix > 30) &  (matrix < 70)]\n",
    "matrix"
   ]
  },
  {
   "cell_type": "code",
   "execution_count": null,
   "id": "4a32b11d-4c37-4881-950d-eea99659deff",
   "metadata": {},
   "outputs": [],
   "source": [
    "num = np.random.randint(1,100,30)\n",
    "num, num[(num > 30) & (num < 70)]"
   ]
  },
  {
   "cell_type": "code",
   "execution_count": 91,
   "id": "5176a4db-1737-4daf-927b-d14474ac7d75",
   "metadata": {},
   "outputs": [
    {
     "data": {
      "text/plain": [
       "array([ 3, 19, 19, 12, 27, 11,  4, 24, 26, 28])"
      ]
     },
     "execution_count": 91,
     "metadata": {},
     "output_type": "execute_result"
    }
   ],
   "source": [
    "# ~ 은 reverse를 의미\n",
    "num[~(num > 30) & (num < 70)]"
   ]
  },
  {
   "cell_type": "code",
   "execution_count": null,
   "id": "e93141c8-7512-4703-a2bb-e49d7315fc8c",
   "metadata": {},
   "outputs": [],
   "source": [
    "num[(num < 10) | (num > 90)]"
   ]
  },
  {
   "cell_type": "code",
   "execution_count": 92,
   "id": "9da999fb-a9c2-4843-8afb-affc84338a56",
   "metadata": {
    "scrolled": true
   },
   "outputs": [
    {
     "data": {
      "text/plain": [
       "array([51, 37, 45, 62, 63, 50, 33, 40, 36])"
      ]
     },
     "execution_count": 92,
     "metadata": {},
     "output_type": "execute_result"
    }
   ],
   "source": [
    "num1 = np.random.randint(1, 101, 30)\n",
    "num1[(num1 > 30) & (num1 < 70)]"
   ]
  },
  {
   "cell_type": "code",
   "execution_count": 93,
   "id": "a05c98a3-8edd-46c3-90a4-120a6661240d",
   "metadata": {},
   "outputs": [
    {
     "data": {
      "text/plain": [
       "array([15, 24, 29, 25, 16,  5, 22,  2])"
      ]
     },
     "execution_count": 93,
     "metadata": {},
     "output_type": "execute_result"
    }
   ],
   "source": [
    "num1[~(num1 > 30) & (num1 < 70)]\n"
   ]
  },
  {
   "cell_type": "markdown",
   "id": "dfe9d70f-a7ae-4bc6-8a0e-3a5b78890d7d",
   "metadata": {},
   "source": [
    "## fancy indexing"
   ]
  },
  {
   "cell_type": "code",
   "execution_count": null,
   "id": "9ee14867-62cd-4601-b49c-d21952d358d2",
   "metadata": {},
   "outputs": [],
   "source": [
    "n = np.random.randint(1,100,30)\n",
    "i = np.array([0, 2, 3, 10, 20])\n",
    "n, n[i]"
   ]
  },
  {
   "cell_type": "markdown",
   "id": "b8e8bd81-65c6-42b2-8dde-31e822be0ecb",
   "metadata": {},
   "source": [
    "## np.where()"
   ]
  },
  {
   "cell_type": "code",
   "execution_count": null,
   "id": "e999394e-9537-4a9a-b2cd-f53218f5bfb5",
   "metadata": {},
   "outputs": [],
   "source": [
    "a = np.arange(10)\n",
    "a, np.where(a < 5, a, 10*a)"
   ]
  },
  {
   "cell_type": "code",
   "execution_count": null,
   "id": "af91dd75-e013-417d-b245-5ac0c89a643e",
   "metadata": {},
   "outputs": [],
   "source": [
    "b = np.arange(20, 31)\n",
    "b, np.where(b<25)"
   ]
  }
 ],
 "metadata": {
  "kernelspec": {
   "display_name": "Python 3 (ipykernel)",
   "language": "python",
   "name": "python3"
  },
  "language_info": {
   "codemirror_mode": {
    "name": "ipython",
    "version": 3
   },
   "file_extension": ".py",
   "mimetype": "text/x-python",
   "name": "python",
   "nbconvert_exporter": "python",
   "pygments_lexer": "ipython3",
   "version": "3.11.7"
  }
 },
 "nbformat": 4,
 "nbformat_minor": 5
}
