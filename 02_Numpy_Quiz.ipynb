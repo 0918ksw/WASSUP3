{
 "cells": [
  {
   "cell_type": "markdown",
   "id": "6f17d151",
   "metadata": {},
   "source": [
    "### Quiz"
   ]
  },
  {
   "cell_type": "markdown",
   "id": "822f98fc",
   "metadata": {},
   "source": [
    "#### Q1. 다음과 같은 리스트를 이용하여 넘파이 배열을 만들고\n",
    "전체 갯수, 차원, 데이터형, 구조를 출력하여라\n",
    "```\n",
    "\n",
    "['강아지', '원숭이', '꽃', '45', '100']\n",
    "\n",
    "array(['강아지', '원숭이', '꽃', '45', '100'], dtype='<U3')\n",
    "차원 ? 1\n",
    "전체 갯수 ? 5\n",
    "데이터형 ? <U3\n",
    "전체 구조  ? (5,)\n",
    "```"
   ]
  },
  {
   "cell_type": "code",
   "execution_count": 6,
   "id": "57a5c6c5-660c-4f82-99a1-a578a300f8cd",
   "metadata": {},
   "outputs": [
    {
     "data": {
      "text/plain": [
       "(array(['강아지', '원숭이', '꽃', '45', '100'], dtype='<U3'),\n",
       " 1,\n",
       " 5,\n",
       " dtype('<U3'),\n",
       " (5,))"
      ]
     },
     "execution_count": 6,
     "metadata": {},
     "output_type": "execute_result"
    }
   ],
   "source": [
    "import numpy as np\n",
    "a = np.array(['강아지', '원숭이', '꽃', '45', '100'])\n",
    "a, a.ndim, a.size, a.dtype, a.shape"
   ]
  },
  {
   "cell_type": "markdown",
   "id": "e1cef698",
   "metadata": {},
   "source": [
    "#### Q2. np.ones()를 이용하여\n",
    "2행 3열의 넘파이 배열을 생성하여라\n",
    "\n",
    "array([[1., 1., 1.],\n",
    "       [1., 1., 1.]])"
   ]
  },
  {
   "cell_type": "code",
   "execution_count": 8,
   "id": "fc428147-8468-487e-96e3-21141f9dfe88",
   "metadata": {},
   "outputs": [
    {
     "ename": "TypeError",
     "evalue": "Cannot interpret '3' as a data type",
     "output_type": "error",
     "traceback": [
      "\u001b[1;31m---------------------------------------------------------------------------\u001b[0m",
      "\u001b[1;31mTypeError\u001b[0m                                 Traceback (most recent call last)",
      "Cell \u001b[1;32mIn[8], line 1\u001b[0m\n\u001b[1;32m----> 1\u001b[0m a  \u001b[38;5;241m=\u001b[39m np\u001b[38;5;241m.\u001b[39marray(\u001b[38;5;241m2\u001b[39m,\u001b[38;5;241m3\u001b[39m)\n\u001b[0;32m      2\u001b[0m a\n",
      "\u001b[1;31mTypeError\u001b[0m: Cannot interpret '3' as a data type"
     ]
    }
   ],
   "source": [
    "a  = np.array(2,3)\n",
    "a"
   ]
  },
  {
   "cell_type": "markdown",
   "id": "42c9b79e",
   "metadata": {},
   "source": [
    "#### Q3. np.arange(), np.reshape()를 이용하여\n",
    "다음과 같은 넘파이 배열을 생성하여라\n",
    "```\n",
    "array([[51, 52, 53, 54, 55],\n",
    "       [56, 57, 58, 59, 60],\n",
    "       [61, 62, 63, 64, 65],\n",
    "       [66, 67, 68, 69, 70],\n",
    "       [71, 72, 73, 74, 75],\n",
    "       [76, 77, 78, 79, 80]])\n",
    "```"
   ]
  },
  {
   "cell_type": "code",
   "execution_count": 15,
   "id": "f36d1318-abab-4e6a-8ba3-87e71b36d100",
   "metadata": {},
   "outputs": [
    {
     "ename": "TypeError",
     "evalue": "order must be str, not int",
     "output_type": "error",
     "traceback": [
      "\u001b[1;31m---------------------------------------------------------------------------\u001b[0m",
      "\u001b[1;31mTypeError\u001b[0m                                 Traceback (most recent call last)",
      "File \u001b[1;32m~\\anaconda3-\\Lib\\site-packages\\numpy\\core\\fromnumeric.py:59\u001b[0m, in \u001b[0;36m_wrapfunc\u001b[1;34m(obj, method, *args, **kwds)\u001b[0m\n\u001b[0;32m     58\u001b[0m \u001b[38;5;28;01mtry\u001b[39;00m:\n\u001b[1;32m---> 59\u001b[0m     \u001b[38;5;28;01mreturn\u001b[39;00m bound(\u001b[38;5;241m*\u001b[39margs, \u001b[38;5;241m*\u001b[39m\u001b[38;5;241m*\u001b[39mkwds)\n\u001b[0;32m     60\u001b[0m \u001b[38;5;28;01mexcept\u001b[39;00m \u001b[38;5;167;01mTypeError\u001b[39;00m:\n\u001b[0;32m     61\u001b[0m     \u001b[38;5;66;03m# A TypeError occurs if the object does have such a method in its\u001b[39;00m\n\u001b[0;32m     62\u001b[0m     \u001b[38;5;66;03m# class, but its signature is not identical to that of NumPy's. This\u001b[39;00m\n\u001b[1;32m   (...)\u001b[0m\n\u001b[0;32m     66\u001b[0m     \u001b[38;5;66;03m# Call _wrapit from within the except clause to ensure a potential\u001b[39;00m\n\u001b[0;32m     67\u001b[0m     \u001b[38;5;66;03m# exception has a traceback chain.\u001b[39;00m\n",
      "\u001b[1;31mTypeError\u001b[0m: order must be str, not int",
      "\nDuring handling of the above exception, another exception occurred:\n",
      "\u001b[1;31mTypeError\u001b[0m                                 Traceback (most recent call last)",
      "Cell \u001b[1;32mIn[15], line 2\u001b[0m\n\u001b[0;32m      1\u001b[0m a \u001b[38;5;241m=\u001b[39m np\u001b[38;5;241m.\u001b[39marange(\u001b[38;5;241m51\u001b[39m, \u001b[38;5;241m81\u001b[39m)\n\u001b[1;32m----> 2\u001b[0m np\u001b[38;5;241m.\u001b[39mreshape(a, \u001b[38;5;241m6\u001b[39m, \u001b[38;5;241m5\u001b[39m)\n\u001b[0;32m      3\u001b[0m a\n",
      "File \u001b[1;32m~\\anaconda3-\\Lib\\site-packages\\numpy\\core\\fromnumeric.py:285\u001b[0m, in \u001b[0;36mreshape\u001b[1;34m(a, newshape, order)\u001b[0m\n\u001b[0;32m    200\u001b[0m \u001b[38;5;129m@array_function_dispatch\u001b[39m(_reshape_dispatcher)\n\u001b[0;32m    201\u001b[0m \u001b[38;5;28;01mdef\u001b[39;00m \u001b[38;5;21mreshape\u001b[39m(a, newshape, order\u001b[38;5;241m=\u001b[39m\u001b[38;5;124m'\u001b[39m\u001b[38;5;124mC\u001b[39m\u001b[38;5;124m'\u001b[39m):\n\u001b[0;32m    202\u001b[0m \u001b[38;5;250m    \u001b[39m\u001b[38;5;124;03m\"\"\"\u001b[39;00m\n\u001b[0;32m    203\u001b[0m \u001b[38;5;124;03m    Gives a new shape to an array without changing its data.\u001b[39;00m\n\u001b[0;32m    204\u001b[0m \n\u001b[1;32m   (...)\u001b[0m\n\u001b[0;32m    283\u001b[0m \u001b[38;5;124;03m           [5, 6]])\u001b[39;00m\n\u001b[0;32m    284\u001b[0m \u001b[38;5;124;03m    \"\"\"\u001b[39;00m\n\u001b[1;32m--> 285\u001b[0m     \u001b[38;5;28;01mreturn\u001b[39;00m _wrapfunc(a, \u001b[38;5;124m'\u001b[39m\u001b[38;5;124mreshape\u001b[39m\u001b[38;5;124m'\u001b[39m, newshape, order\u001b[38;5;241m=\u001b[39morder)\n",
      "File \u001b[1;32m~\\anaconda3-\\Lib\\site-packages\\numpy\\core\\fromnumeric.py:68\u001b[0m, in \u001b[0;36m_wrapfunc\u001b[1;34m(obj, method, *args, **kwds)\u001b[0m\n\u001b[0;32m     59\u001b[0m     \u001b[38;5;28;01mreturn\u001b[39;00m bound(\u001b[38;5;241m*\u001b[39margs, \u001b[38;5;241m*\u001b[39m\u001b[38;5;241m*\u001b[39mkwds)\n\u001b[0;32m     60\u001b[0m \u001b[38;5;28;01mexcept\u001b[39;00m \u001b[38;5;167;01mTypeError\u001b[39;00m:\n\u001b[0;32m     61\u001b[0m     \u001b[38;5;66;03m# A TypeError occurs if the object does have such a method in its\u001b[39;00m\n\u001b[0;32m     62\u001b[0m     \u001b[38;5;66;03m# class, but its signature is not identical to that of NumPy's. This\u001b[39;00m\n\u001b[1;32m   (...)\u001b[0m\n\u001b[0;32m     66\u001b[0m     \u001b[38;5;66;03m# Call _wrapit from within the except clause to ensure a potential\u001b[39;00m\n\u001b[0;32m     67\u001b[0m     \u001b[38;5;66;03m# exception has a traceback chain.\u001b[39;00m\n\u001b[1;32m---> 68\u001b[0m     \u001b[38;5;28;01mreturn\u001b[39;00m _wrapit(obj, method, \u001b[38;5;241m*\u001b[39margs, \u001b[38;5;241m*\u001b[39m\u001b[38;5;241m*\u001b[39mkwds)\n",
      "File \u001b[1;32m~\\anaconda3-\\Lib\\site-packages\\numpy\\core\\fromnumeric.py:45\u001b[0m, in \u001b[0;36m_wrapit\u001b[1;34m(obj, method, *args, **kwds)\u001b[0m\n\u001b[0;32m     43\u001b[0m \u001b[38;5;28;01mexcept\u001b[39;00m \u001b[38;5;167;01mAttributeError\u001b[39;00m:\n\u001b[0;32m     44\u001b[0m     wrap \u001b[38;5;241m=\u001b[39m \u001b[38;5;28;01mNone\u001b[39;00m\n\u001b[1;32m---> 45\u001b[0m result \u001b[38;5;241m=\u001b[39m \u001b[38;5;28mgetattr\u001b[39m(asarray(obj), method)(\u001b[38;5;241m*\u001b[39margs, \u001b[38;5;241m*\u001b[39m\u001b[38;5;241m*\u001b[39mkwds)\n\u001b[0;32m     46\u001b[0m \u001b[38;5;28;01mif\u001b[39;00m wrap:\n\u001b[0;32m     47\u001b[0m     \u001b[38;5;28;01mif\u001b[39;00m \u001b[38;5;129;01mnot\u001b[39;00m \u001b[38;5;28misinstance\u001b[39m(result, mu\u001b[38;5;241m.\u001b[39mndarray):\n",
      "\u001b[1;31mTypeError\u001b[0m: order must be str, not int"
     ]
    }
   ],
   "source": [
    "a = np.arange(51, 81)\n",
    "np.reshape(a, 6, 5)\n",
    "a"
   ]
  },
  {
   "cell_type": "markdown",
   "id": "6b0dd4b5",
   "metadata": {},
   "source": [
    "#### Q4. Q3의 넘파이 배열의 자료형을\n",
    "float로 변경하고 데이터형을 출력하여라\n",
    "```\n",
    "array([[51., 52., 53., 54., 55.],\n",
    "       [56., 57., 58., 59., 60.],\n",
    "       [61., 62., 63., 64., 65.],\n",
    "       [66., 67., 68., 69., 70.],\n",
    "       [71., 72., 73., 74., 75.],\n",
    "       [76., 77., 78., 79., 80.]])\n",
    "```\n",
    "-------------------------------------  \n",
    "\n",
    "dtype('float64')"
   ]
  },
  {
   "cell_type": "code",
   "execution_count": 19,
   "id": "200dc541-ca25-4797-a0e8-cec3aae25b4c",
   "metadata": {},
   "outputs": [
    {
     "ename": "AttributeError",
     "evalue": "module 'numpy' has no attribute 'range'",
     "output_type": "error",
     "traceback": [
      "\u001b[1;31m---------------------------------------------------------------------------\u001b[0m",
      "\u001b[1;31mAttributeError\u001b[0m                            Traceback (most recent call last)",
      "Cell \u001b[1;32mIn[19], line 1\u001b[0m\n\u001b[1;32m----> 1\u001b[0m a \u001b[38;5;241m=\u001b[39m np\u001b[38;5;241m.\u001b[39mrange(\u001b[38;5;241m51\u001b[39m, \u001b[38;5;241m81\u001b[39m)\u001b[38;5;241m.\u001b[39mreshape(\u001b[38;5;241m6\u001b[39m, \u001b[38;5;241m5\u001b[39m)\n\u001b[0;32m      2\u001b[0m a\u001b[38;5;241m.\u001b[39mdtype(\u001b[38;5;124m'\u001b[39m\u001b[38;5;124mfloat64\u001b[39m\u001b[38;5;124m'\u001b[39m, a)\n\u001b[0;32m      3\u001b[0m a\n",
      "File \u001b[1;32m~\\anaconda3-\\Lib\\site-packages\\numpy\\__init__.py:333\u001b[0m, in \u001b[0;36m__getattr__\u001b[1;34m(attr)\u001b[0m\n\u001b[0;32m    330\u001b[0m     \u001b[38;5;124m\"\u001b[39m\u001b[38;5;124mRemoved in NumPy 1.25.0\u001b[39m\u001b[38;5;124m\"\u001b[39m\n\u001b[0;32m    331\u001b[0m     \u001b[38;5;28;01mraise\u001b[39;00m \u001b[38;5;167;01mRuntimeError\u001b[39;00m(\u001b[38;5;124m\"\u001b[39m\u001b[38;5;124mTester was removed in NumPy 1.25.\u001b[39m\u001b[38;5;124m\"\u001b[39m)\n\u001b[1;32m--> 333\u001b[0m \u001b[38;5;28;01mraise\u001b[39;00m \u001b[38;5;167;01mAttributeError\u001b[39;00m(\u001b[38;5;124m\"\u001b[39m\u001b[38;5;124mmodule \u001b[39m\u001b[38;5;132;01m{!r}\u001b[39;00m\u001b[38;5;124m has no attribute \u001b[39m\u001b[38;5;124m\"\u001b[39m\n\u001b[0;32m    334\u001b[0m                      \u001b[38;5;124m\"\u001b[39m\u001b[38;5;132;01m{!r}\u001b[39;00m\u001b[38;5;124m\"\u001b[39m\u001b[38;5;241m.\u001b[39mformat(\u001b[38;5;18m__name__\u001b[39m, attr))\n",
      "\u001b[1;31mAttributeError\u001b[0m: module 'numpy' has no attribute 'range'"
     ]
    }
   ],
   "source": [
    "a = np.range(51, 81).reshape(6, 5)\n",
    "a.dtype('float64', a)\n",
    "a"
   ]
  },
  {
   "cell_type": "markdown",
   "id": "906cf1f4",
   "metadata": {},
   "source": [
    "#### Q5. 다음과 같이 넘파이 배열을 생성한 후 1차원 배열로 변경하고 슬라이싱하여라 \n",
    "\n",
    "```\n",
    "array([[ 1,  4,  5,  6],\n",
    "       [56, 23, 45, 67],\n",
    "       [ 8,  4,  6, 10]])\n",
    "       \n",
    "array([ 1,  4,  5,  6, 56, 23, 45, 67,  8,  4,  6, 10])\n",
    "\n",
    "\n",
    "array([23, 45, 67,  8,  4,  6])\n",
    "```       "
   ]
  },
  {
   "cell_type": "code",
   "execution_count": 35,
   "id": "90724111-e79d-4da8-a30f-bfa15e788f7e",
   "metadata": {},
   "outputs": [
    {
     "name": "stdout",
     "output_type": "stream",
     "text": [
      "[ 1  4  5  6 56 23]\n"
     ]
    }
   ],
   "source": [
    "import random\n",
    "a = np.array([[1,4,5,6],[56,23,45,67],[8,4,6,10]])\n",
    "print(a.reshape(12, )[:6])"
   ]
  },
  {
   "cell_type": "markdown",
   "id": "46e67feb",
   "metadata": {},
   "source": [
    "#### Q6. 다음과 같은 넘파이 배열을 생성한 후 아이템을 교체하여라 \n",
    "\n",
    "```\n",
    "array([ 1,  2,  3,  4,  5,  6,  7,  8,  9, 10])\n",
    "\n",
    "array([10,  2,  3,  4,  5,  6,  7,  0,  0,  0])\n",
    "\n",
    "```"
   ]
  },
  {
   "cell_type": "code",
   "execution_count": 41,
   "id": "c7cd6fbe-380b-4e29-98f8-902b110a7207",
   "metadata": {},
   "outputs": [
    {
     "data": {
      "text/plain": [
       "array([10,  2,  3,  4,  5,  6,  7,  8,  9,  0])"
      ]
     },
     "execution_count": 41,
     "metadata": {},
     "output_type": "execute_result"
    }
   ],
   "source": [
    "a = np.array([ 1,  2,  3,  4,  5,  6,  7,  8,  9, 10])\n",
    "a[0] = 10\n",
    "a[-1] = 0\n",
    "a"
   ]
  },
  {
   "cell_type": "markdown",
   "id": "cf265b90",
   "metadata": {},
   "source": [
    "#### Q7. 2자리의 숫자로 구성된 넘파이 배열(5행5열)을 만들어라. 숫자는 난수를 이용한다. \n",
    "\n",
    "```\n",
    "[[63 85 71 67 15]\n",
    " [31 81 69 17 97]\n",
    " [25 41 33 23 39]\n",
    " [39 43 59 33 43]\n",
    " [23 51 65 91 23]]\n",
    "\n",
    "```"
   ]
  },
  {
   "cell_type": "code",
   "execution_count": 43,
   "id": "0520d5ad-2e3a-4aca-acc5-3f08a08845aa",
   "metadata": {},
   "outputs": [
    {
     "ename": "TypeError",
     "evalue": "'tuple' object is not callable",
     "output_type": "error",
     "traceback": [
      "\u001b[1;31m---------------------------------------------------------------------------\u001b[0m",
      "\u001b[1;31mTypeError\u001b[0m                                 Traceback (most recent call last)",
      "Cell \u001b[1;32mIn[43], line 1\u001b[0m\n\u001b[1;32m----> 1\u001b[0m a \u001b[38;5;241m=\u001b[39m a\u001b[38;5;241m.\u001b[39mshape(\u001b[38;5;241m5\u001b[39m, \u001b[38;5;241m5\u001b[39m)\n\u001b[0;32m      2\u001b[0m a[(a \u001b[38;5;241m>\u001b[39m \u001b[38;5;241m10\u001b[39m)]\n",
      "\u001b[1;31mTypeError\u001b[0m: 'tuple' object is not callable"
     ]
    }
   ],
   "source": [
    "a = a.shape(5, 5)\n",
    "a[(a > 10)]"
   ]
  },
  {
   "cell_type": "markdown",
   "id": "5c5ccecf",
   "metadata": {},
   "source": [
    "#### Q8. 1~100 사이의 정수중 7개의 숫자를 무작위로 추출한 후 가장 큰값과 가장 작은 값을 출력하여라.\n",
    "[91, 65, 14, 66, 65, 98, 34]\n",
    "\n",
    "max = 98\n",
    "min = 14"
   ]
  },
  {
   "cell_type": "code",
   "execution_count": 46,
   "id": "54209548-9daf-4b72-aec9-c6c8c60c7c13",
   "metadata": {},
   "outputs": [
    {
     "data": {
      "text/plain": [
       "(array([16, 69, 59, 71, 99, 81, 99]), 99, 16)"
      ]
     },
     "execution_count": 46,
     "metadata": {},
     "output_type": "execute_result"
    }
   ],
   "source": [
    "a = np.random.randint(1, 101, 7)\n",
    "a, a.max(), a.min()"
   ]
  },
  {
   "cell_type": "markdown",
   "id": "24dcaa28",
   "metadata": {},
   "source": [
    "#### Q9. 다음과 같은 3개의 넘파이 배열을 생성한 후 다음과 같이 합쳐라\n",
    "```\n",
    "[[1, 2, 3],\n",
    " [4, 5, 6],\n",
    " [7, 8, 9]]\n",
    "\n",
    "\n",
    "[[11, 12, 13],\n",
    " [14, 15, 16],\n",
    " [17, 18, 19]]\n",
    "\n",
    "\n",
    "[[21, 22, 23],\n",
    " [24, 25, 26],\n",
    " [27, 28, 29]]\n",
    "```\n",
    " ----------\n",
    "  Result1 \n",
    "```\n",
    " [[ 1,  2,  3, 11, 12, 13, 21, 22, 23],\n",
    "  [ 4,  5,  6, 14, 15, 16, 24, 25, 26],\n",
    "  [ 7,  8,  9, 17, 18, 19, 27, 28, 29]] \n",
    "```\n",
    "\n",
    "  ----------\n",
    "  Result2\n",
    "```\n",
    " [[ 1,  2,  3],\n",
    "  [ 4,  5,  6],\n",
    "  [ 7,  8,  9],\n",
    "  [11, 12, 13],\n",
    "  [14, 15, 16],\n",
    "  [17, 18, 19],\n",
    "  [21, 22, 23],\n",
    "  [24, 25, 26],\n",
    "  [27, 28, 29]]\n",
    "```"
   ]
  },
  {
   "cell_type": "code",
   "execution_count": 64,
   "id": "a0442d46-bff4-4b28-b7ff-65ddffd05292",
   "metadata": {},
   "outputs": [
    {
     "data": {
      "text/plain": [
       "(array([[ 1,  2,  3, 11, 12, 13, 21, 22, 23],\n",
       "        [ 4,  5,  6, 14, 15, 16, 24, 25, 26],\n",
       "        [ 7,  8,  9, 17, 18, 19, 27, 28, 29]]),\n",
       " array([[ 1,  2,  3],\n",
       "        [ 4,  5,  6],\n",
       "        [ 7,  8,  9],\n",
       "        [11, 12, 13],\n",
       "        [14, 15, 16],\n",
       "        [17, 18, 19],\n",
       "        [21, 22, 23],\n",
       "        [24, 25, 26],\n",
       "        [27, 28, 29]]))"
      ]
     },
     "execution_count": 64,
     "metadata": {},
     "output_type": "execute_result"
    }
   ],
   "source": [
    "a = np.array([[1, 2, 3],[4, 5, 6],[7, 8, 9]])\n",
    "b = np.array([[11, 12, 13], [14, 15, 16], [17, 18, 19]])\n",
    "c = np.array([[21, 22, 23], [24, 25, 26], [27, 28, 29]])\n",
    "\n",
    "result1 = np.hstack((a,b,c))\n",
    "result2 = np.vstack((a,b,c))\n",
    "result1, result2"
   ]
  },
  {
   "cell_type": "markdown",
   "id": "2d8638be",
   "metadata": {},
   "source": [
    "#### Q10. 아래와 같이 넘파이 배열을 생성한 후 50보다 큰 숫자만 필터링하여라. \n",
    "\n",
    "```\n",
    "arr = np.random.choice(100, 40, replace=False)\n",
    "\n",
    "Before => \n",
    "\n",
    "[40, 63,  8,  2, 35, 84, 72, 48, 78, 86, 87, 58,  0, 49, 14, 55, 11,\n",
    "       73, 39, 26, 75, 27, 99, 46, 25, 22, 34, 83, 24, 47, 31, 57, 62, 19,\n",
    "       36, 15, 17, 10, 98, 90]\n",
    "\n",
    "After =>\n",
    "\n",
    "[63, 84, 72, 78, 86, 87, 58, 55, 73, 75, 99, 83, 57, 62, 98, 90]\n",
    "\n",
    "```"
   ]
  },
  {
   "cell_type": "code",
   "execution_count": 70,
   "id": "03c22039-7e21-48fd-9cba-bec220da6ee2",
   "metadata": {},
   "outputs": [
    {
     "name": "stdout",
     "output_type": "stream",
     "text": [
      "Before => [85  3 20 64 25 62 11 27 73 39 56 93 42 80 34 91 96 52 87 41 10 43 19 89\n",
      "  1 72 12 14  7 71 51 32 78 70 98 28 38 92  5 82]\n",
      "After => [85 64 62 73 56 93 80 91 96 52 87 89 72 71 51 78 70 98 92 82]\n"
     ]
    }
   ],
   "source": [
    "arr = np.random.choice(100, 40, replace=False)\n",
    "print('Before =>', arr)\n",
    "arr1 = arr[arr > 50]\n",
    "print('After =>', arr1)\n",
    "\n",
    "n, arr[np.where(arr>50)] , arr[arr>50]"
   ]
  },
  {
   "cell_type": "markdown",
   "id": "249ef810",
   "metadata": {},
   "source": [
    "#### Quiz 11\n",
    "```\n",
    "kor = np.array( [60,55,70,30,20,90])\n",
    "1. 국어점수가 가장큰값을 구하여라\n",
    "2. 국어점수가 80점이상인 값을 구하여라\n",
    "3. 국어 점수가 50점이상 80점 이하인 값을 구하여라\n",
    "4. 국어점수의 평균을 구하여라\n",
    "5. 국어점수의 총합을 구하여라.\n",
    "6. 국어점수가 40점이하인 데이터를 삭제하여라\n",
    "7. 국어점수가 50점이상인 데이터에 가산점 10%를 부여하여라\n",
    "8. 국어점수 top 3를 구하여라\n",
    "9. 국어점수가 70점이상이면 '합격' , 아니면 '불합격으로' 아래와 같이 출력하시요\n",
    "\n",
    "60 '불합격'\n",
    "55 '불합격'\n",
    "```"
   ]
  },
  {
   "cell_type": "code",
   "execution_count": 75,
   "id": "306a7066-dc57-4935-bfcb-56c3c1bf3080",
   "metadata": {},
   "outputs": [
    {
     "name": "stdout",
     "output_type": "stream",
     "text": [
      "90\n"
     ]
    },
    {
     "ename": "TypeError",
     "evalue": "'numpy.ndarray' object is not callable",
     "output_type": "error",
     "traceback": [
      "\u001b[1;31m---------------------------------------------------------------------------\u001b[0m",
      "\u001b[1;31mTypeError\u001b[0m                                 Traceback (most recent call last)",
      "Cell \u001b[1;32mIn[75], line 3\u001b[0m\n\u001b[0;32m      1\u001b[0m kor \u001b[38;5;241m=\u001b[39m np\u001b[38;5;241m.\u001b[39marray( [\u001b[38;5;241m60\u001b[39m,\u001b[38;5;241m55\u001b[39m,\u001b[38;5;241m70\u001b[39m,\u001b[38;5;241m30\u001b[39m,\u001b[38;5;241m20\u001b[39m,\u001b[38;5;241m90\u001b[39m])\n\u001b[0;32m      2\u001b[0m \u001b[38;5;28mprint\u001b[39m(kor\u001b[38;5;241m.\u001b[39mmax())\n\u001b[1;32m----> 3\u001b[0m \u001b[38;5;28mprint\u001b[39m(kor([kor \u001b[38;5;241m>\u001b[39m\u001b[38;5;241m=\u001b[39m \u001b[38;5;241m80\u001b[39m]))\n",
      "\u001b[1;31mTypeError\u001b[0m: 'numpy.ndarray' object is not callable"
     ]
    }
   ],
   "source": [
    "kor = np.array( [60,55,70,30,20,90])\n",
    "print(kor.max())\n",
    "print(kor([kor >= 80]))"
   ]
  }
 ],
 "metadata": {
  "kernelspec": {
   "display_name": "Python 3 (ipykernel)",
   "language": "python",
   "name": "python3"
  },
  "language_info": {
   "codemirror_mode": {
    "name": "ipython",
    "version": 3
   },
   "file_extension": ".py",
   "mimetype": "text/x-python",
   "name": "python",
   "nbconvert_exporter": "python",
   "pygments_lexer": "ipython3",
   "version": "3.11.7"
  },
  "toc": {
   "base_numbering": 1,
   "nav_menu": {},
   "number_sections": true,
   "sideBar": true,
   "skip_h1_title": false,
   "title_cell": "Table of Contents",
   "title_sidebar": "Contents",
   "toc_cell": false,
   "toc_position": {
    "height": "calc(100% - 180px)",
    "left": "10px",
    "top": "150px",
    "width": "232px"
   },
   "toc_section_display": true,
   "toc_window_display": true
  },
  "varInspector": {
   "cols": {
    "lenName": 16,
    "lenType": 16,
    "lenVar": 40
   },
   "kernels_config": {
    "python": {
     "delete_cmd_postfix": "",
     "delete_cmd_prefix": "del ",
     "library": "var_list.py",
     "varRefreshCmd": "print(var_dic_list())"
    },
    "r": {
     "delete_cmd_postfix": ") ",
     "delete_cmd_prefix": "rm(",
     "library": "var_list.r",
     "varRefreshCmd": "cat(var_dic_list()) "
    }
   },
   "types_to_exclude": [
    "module",
    "function",
    "builtin_function_or_method",
    "instance",
    "_Feature"
   ],
   "window_display": false
  }
 },
 "nbformat": 4,
 "nbformat_minor": 5
}
