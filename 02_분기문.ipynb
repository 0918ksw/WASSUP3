{
 "cells": [
  {
   "cell_type": "markdown",
   "id": "a2b22c7b-9f07-480b-9a5d-a5034e1638f2",
   "metadata": {},
   "source": [
    "## if 분기문"
   ]
  },
  {
   "cell_type": "code",
   "execution_count": 2,
   "id": "c1b0ef87-6e83-4daa-9bfa-c66ce5fd907d",
   "metadata": {},
   "outputs": [
    {
     "name": "stdout",
     "output_type": "stream",
     "text": [
      "택시를 타고 가라\n"
     ]
    }
   ],
   "source": [
    "money = True\n",
    "if money:\n",
    "    print(\"택시를 타고 가라\")\n",
    "else:\n",
    "    print(\"걸어 가라\")"
   ]
  },
  {
   "cell_type": "code",
   "execution_count": 6,
   "id": "8db09af6-7eee-47bf-b445-a87fde16e1a3",
   "metadata": {},
   "outputs": [
    {
     "name": "stdout",
     "output_type": "stream",
     "text": [
      "택시를\n",
      "타고 가라\n",
      "걸어 가라\n"
     ]
    }
   ],
   "source": [
    "money = True\n",
    "if money:\n",
    "    print(\"택시를\")\n",
    "    print(\"타고 가라\")\n",
    "    print(\"걸어 가라\")"
   ]
  },
  {
   "cell_type": "markdown",
   "id": "423cd317-963a-43ea-944a-a38d2b311026",
   "metadata": {},
   "source": [
    "## 조건문이란 무엇인가?"
   ]
  },
  {
   "cell_type": "code",
   "execution_count": 7,
   "id": "b81150a1-02b9-4967-843d-a0172de99b8f",
   "metadata": {},
   "outputs": [
    {
     "data": {
      "text/plain": [
       "True"
      ]
     },
     "execution_count": 7,
     "metadata": {},
     "output_type": "execute_result"
    }
   ],
   "source": [
    "x = 3\n",
    "y = 2\n",
    "x > y"
   ]
  },
  {
   "cell_type": "code",
   "execution_count": 9,
   "id": "6df24082-8cdb-485b-82e1-706ef4d70511",
   "metadata": {},
   "outputs": [
    {
     "name": "stdout",
     "output_type": "stream",
     "text": [
      "택시를 타고가라\n"
     ]
    }
   ],
   "source": [
    "money >= 3000\n",
    "if money :\n",
    "    print(\"택시를 타고가라\")\n",
    "else :\n",
    "    print(\"걸어가라\")"
   ]
  },
  {
   "cell_type": "code",
   "execution_count": 10,
   "id": "e9549331-40f0-47c3-961d-133d8a216279",
   "metadata": {},
   "outputs": [
    {
     "name": "stdout",
     "output_type": "stream",
     "text": [
      "걸어가라\n"
     ]
    }
   ],
   "source": [
    "money = 2000\n",
    "if money >= 3000 :\n",
    "    print(\"택시를 타고가라\")\n",
    "else :\n",
    "    print(\"걸어가라\")"
   ]
  },
  {
   "cell_type": "markdown",
   "id": "d37cd45c-db79-4906-ae84-91290b19074d",
   "metadata": {},
   "source": [
    "## and, or, not"
   ]
  },
  {
   "cell_type": "code",
   "execution_count": 11,
   "id": "7aceb327-c9e3-49c0-947c-64d040b47f31",
   "metadata": {},
   "outputs": [
    {
     "ename": "SyntaxError",
     "evalue": "cannot assign to expression here. Maybe you meant '==' instead of '='? (366655796.py, line 1)",
     "output_type": "error",
     "traceback": [
      "\u001b[1;36m  Cell \u001b[1;32mIn[11], line 1\u001b[1;36m\u001b[0m\n\u001b[1;33m    money | card = True\u001b[0m\n\u001b[1;37m    ^\u001b[0m\n\u001b[1;31mSyntaxError\u001b[0m\u001b[1;31m:\u001b[0m cannot assign to expression here. Maybe you meant '==' instead of '='?\n"
     ]
    }
   ],
   "source": [
    "money | card = True\n",
    "if money|card :\n",
    "    print(\"택시를 타고가라\")\n",
    "else :\n",
    "    print(\"걸어가라\")"
   ]
  },
  {
   "cell_type": "code",
   "execution_count": 14,
   "id": "c073a9f8-b583-4361-bcab-96beaf74485c",
   "metadata": {},
   "outputs": [
    {
     "name": "stdout",
     "output_type": "stream",
     "text": [
      "택시를 타고가라\n"
     ]
    }
   ],
   "source": [
    "money = 2000\n",
    "card = True\n",
    "if money>2000 or card :\n",
    "    print(\"택시를 타고가라\")\n",
    "else :\n",
    "    print(\"걸어가라\")"
   ]
  },
  {
   "cell_type": "markdown",
   "id": "6c7d3614-3da9-41f8-b1b4-9905f5f6dae9",
   "metadata": {},
   "source": [
    "## in, not in"
   ]
  },
  {
   "cell_type": "code",
   "execution_count": 15,
   "id": "89738a34-68ef-4485-95e0-d8949eba06ec",
   "metadata": {},
   "outputs": [
    {
     "data": {
      "text/plain": [
       "True"
      ]
     },
     "execution_count": 15,
     "metadata": {},
     "output_type": "execute_result"
    }
   ],
   "source": [
    "1 in  [1, 2, 3]"
   ]
  },
  {
   "cell_type": "code",
   "execution_count": 16,
   "id": "f7661652-d0a1-4c94-9431-4ba1d1d6984a",
   "metadata": {},
   "outputs": [
    {
     "ename": "NameError",
     "evalue": "name 'key' is not defined",
     "output_type": "error",
     "traceback": [
      "\u001b[1;31m---------------------------------------------------------------------------\u001b[0m",
      "\u001b[1;31mNameError\u001b[0m                                 Traceback (most recent call last)",
      "Cell \u001b[1;32mIn[16], line 2\u001b[0m\n\u001b[0;32m      1\u001b[0m money\u001b[38;5;241m=\u001b[39m\u001b[38;5;241m2000\u001b[39m\n\u001b[1;32m----> 2\u001b[0m \u001b[38;5;28;01mif\u001b[39;00m money \u001b[38;5;129;01min\u001b[39;00m [money, card, key] :\n\u001b[0;32m      3\u001b[0m     \u001b[38;5;28mprint\u001b[39m(\u001b[38;5;124m\"\u001b[39m\u001b[38;5;124m택시를 타고가라\u001b[39m\u001b[38;5;124m\"\u001b[39m)\n\u001b[0;32m      4\u001b[0m \u001b[38;5;28;01melse\u001b[39;00m :\n",
      "\u001b[1;31mNameError\u001b[0m: name 'key' is not defined"
     ]
    }
   ],
   "source": [
    "money=2000\n",
    "if money in [money, card, key] :\n",
    "    print(\"택시를 타고가라\")\n",
    "else :\n",
    "    print(\"걸어가라\")"
   ]
  },
  {
   "cell_type": "code",
   "execution_count": 20,
   "id": "7c9d35e5-cdfc-4fdf-9b0e-5c9e128aeeea",
   "metadata": {},
   "outputs": [
    {
     "name": "stdout",
     "output_type": "stream",
     "text": [
      "택시를 타고가라\n"
     ]
    }
   ],
   "source": [
    "pocket=['money', 'card', 'key']\n",
    "if 'money' in pocket :\n",
    "    print(\"택시를 타고가라\")\n",
    "else :\n",
    "    print(\"걸어가라\")"
   ]
  },
  {
   "cell_type": "markdown",
   "id": "3c90d4dd-3acf-4277-af83-a62c16114622",
   "metadata": {},
   "source": [
    "## 조건문에서 아무 일도 하지 않게 설정하려면"
   ]
  },
  {
   "cell_type": "code",
   "execution_count": 21,
   "id": "e8f224b9-aaf7-43eb-9a0c-6f4c5919c2c2",
   "metadata": {},
   "outputs": [],
   "source": [
    "pocket=['money', 'card', 'key']\n",
    "if 'money' in pocket :\n",
    "    pass\n",
    "else :\n",
    "    print(\"걸어가라\")"
   ]
  },
  {
   "cell_type": "markdown",
   "id": "7a7a3a9d-f9e2-43b3-b9e9-c118d19884db",
   "metadata": {},
   "source": [
    "## 다양한 조건을 판단하는 elif"
   ]
  },
  {
   "cell_type": "code",
   "execution_count": 27,
   "id": "e7073f5f-33f1-4a82-a14a-ff904dc51230",
   "metadata": {},
   "outputs": [
    {
     "name": "stdout",
     "output_type": "stream",
     "text": [
      "택시를 타고가라\n"
     ]
    }
   ],
   "source": [
    "pocket=['money', 'card', 'key']\n",
    "if 'money' in pocket :\n",
    "    print(\"택시를 타고가라\")\n",
    "elif 'card' in pocket :\n",
    "    print(\"택시를 타고가라\")\n",
    "else :\n",
    "    print(\"걸어가라\")"
   ]
  },
  {
   "cell_type": "code",
   "execution_count": null,
   "id": "54032f23-4be5-43db-baf6-db700afc2b2d",
   "metadata": {
    "jupyter": {
     "source_hidden": true
    }
   },
   "outputs": [],
   "source": [
    "#-- pocket = [ ] 여기 안에 card가 없으면 card=False를 쓰는것은 중복 명령어인가요? pocket = ['card'] 랑 card=True는 같은 말인거죠?"
   ]
  },
  {
   "cell_type": "markdown",
   "id": "0ccaecf7-3367-4949-b724-2b95d9d2128a",
   "metadata": {},
   "source": [
    "## 조건부 표현식"
   ]
  },
  {
   "cell_type": "markdown",
   "id": "aa9b0cd7-30ed-4f22-824b-ca90476f5759",
   "metadata": {},
   "source": [
    "## while 조건반복문"
   ]
  },
  {
   "cell_type": "code",
   "execution_count": 28,
   "id": "ad545e76-7ae2-467e-806a-8264cba10904",
   "metadata": {},
   "outputs": [
    {
     "name": "stdout",
     "output_type": "stream",
     "text": [
      "나무를 1번 찍었습니다.\n",
      "나무를 2번 찍었습니다.\n",
      "나무를 3번 찍었습니다.\n",
      "나무를 4번 찍었습니다.\n",
      "나무를 5번 찍었습니다.\n",
      "나무를 6번 찍었습니다.\n",
      "나무를 7번 찍었습니다.\n",
      "나무를 8번 찍었습니다.\n",
      "나무를 9번 찍었습니다.\n",
      "나무를 10번 찍었습니다.\n",
      "나무 넘어갑니다.\n"
     ]
    }
   ],
   "source": [
    "treeHit = 0\n",
    "while treeHit < 10:\n",
    "    treeHit = treeHit +1\n",
    "    print(\"나무를 %d번 찍었습니다.\" % treeHit)\n",
    "    if treeHit == 10:\n",
    "        print(\"나무 넘어갑니다.\")"
   ]
  },
  {
   "cell_type": "markdown",
   "id": "d004179d-2c65-4ec1-bb8d-a2d4193ac6be",
   "metadata": {},
   "source": [
    "## While문 만들기"
   ]
  },
  {
   "cell_type": "code",
   "execution_count": 32,
   "id": "5d67e088-fa17-4a2d-b7db-d1844d93627a",
   "metadata": {},
   "outputs": [],
   "source": [
    "prompt = \"\"\"\n",
    "1. Add\n",
    "2. Delete\n",
    "3. List\n",
    "4. Quit\n",
    "\n",
    "Enter number : \"\"\""
   ]
  },
  {
   "cell_type": "code",
   "execution_count": 33,
   "id": "438eaa74-ac82-4791-9012-86ba46695faf",
   "metadata": {},
   "outputs": [
    {
     "name": "stdout",
     "output_type": "stream",
     "text": [
      "\n",
      "1. Add\n",
      "2. Delete\n",
      "3. List\n",
      "4. Quit\n",
      "\n",
      "Enter number : \n"
     ]
    }
   ],
   "source": [
    "print(prompt)"
   ]
  },
  {
   "cell_type": "code",
   "execution_count": 34,
   "id": "82af1d3b-d515-434a-a468-ce1ff8765f53",
   "metadata": {},
   "outputs": [
    {
     "name": "stdout",
     "output_type": "stream",
     "text": [
      "\n",
      "1. Add\n",
      "2. Delete\n",
      "3. List\n",
      "4. Quit\n",
      "\n",
      "Enter number : \n"
     ]
    },
    {
     "name": "stdin",
     "output_type": "stream",
     "text": [
      " 1\n"
     ]
    },
    {
     "name": "stdout",
     "output_type": "stream",
     "text": [
      "\n",
      "1. Add\n",
      "2. Delete\n",
      "3. List\n",
      "4. Quit\n",
      "\n",
      "Enter number : \n"
     ]
    },
    {
     "name": "stdin",
     "output_type": "stream",
     "text": [
      " 2\n"
     ]
    },
    {
     "name": "stdout",
     "output_type": "stream",
     "text": [
      "\n",
      "1. Add\n",
      "2. Delete\n",
      "3. List\n",
      "4. Quit\n",
      "\n",
      "Enter number : \n"
     ]
    },
    {
     "name": "stdin",
     "output_type": "stream",
     "text": [
      " 4\n"
     ]
    },
    {
     "name": "stdout",
     "output_type": "stream",
     "text": [
      "\n",
      "1. Add\n",
      "2. Delete\n",
      "3. List\n",
      "4. Quit\n",
      "\n",
      "Enter number : \n"
     ]
    },
    {
     "ename": "KeyboardInterrupt",
     "evalue": "Interrupted by user",
     "output_type": "error",
     "traceback": [
      "\u001b[1;31m---------------------------------------------------------------------------\u001b[0m",
      "\u001b[1;31mKeyboardInterrupt\u001b[0m                         Traceback (most recent call last)",
      "Cell \u001b[1;32mIn[34], line 4\u001b[0m\n\u001b[0;32m      2\u001b[0m \u001b[38;5;28;01mwhile\u001b[39;00m number \u001b[38;5;241m!=\u001b[39m\u001b[38;5;241m4\u001b[39m:\n\u001b[0;32m      3\u001b[0m     \u001b[38;5;28mprint\u001b[39m(prompt)\n\u001b[1;32m----> 4\u001b[0m     numver \u001b[38;5;241m=\u001b[39m \u001b[38;5;28mint\u001b[39m(\u001b[38;5;28minput\u001b[39m())\n",
      "File \u001b[1;32m~\\anaconda3-\\Lib\\site-packages\\ipykernel\\kernelbase.py:1262\u001b[0m, in \u001b[0;36mKernel.raw_input\u001b[1;34m(self, prompt)\u001b[0m\n\u001b[0;32m   1260\u001b[0m     msg \u001b[38;5;241m=\u001b[39m \u001b[38;5;124m\"\u001b[39m\u001b[38;5;124mraw_input was called, but this frontend does not support input requests.\u001b[39m\u001b[38;5;124m\"\u001b[39m\n\u001b[0;32m   1261\u001b[0m     \u001b[38;5;28;01mraise\u001b[39;00m StdinNotImplementedError(msg)\n\u001b[1;32m-> 1262\u001b[0m \u001b[38;5;28;01mreturn\u001b[39;00m \u001b[38;5;28mself\u001b[39m\u001b[38;5;241m.\u001b[39m_input_request(\n\u001b[0;32m   1263\u001b[0m     \u001b[38;5;28mstr\u001b[39m(prompt),\n\u001b[0;32m   1264\u001b[0m     \u001b[38;5;28mself\u001b[39m\u001b[38;5;241m.\u001b[39m_parent_ident[\u001b[38;5;124m\"\u001b[39m\u001b[38;5;124mshell\u001b[39m\u001b[38;5;124m\"\u001b[39m],\n\u001b[0;32m   1265\u001b[0m     \u001b[38;5;28mself\u001b[39m\u001b[38;5;241m.\u001b[39mget_parent(\u001b[38;5;124m\"\u001b[39m\u001b[38;5;124mshell\u001b[39m\u001b[38;5;124m\"\u001b[39m),\n\u001b[0;32m   1266\u001b[0m     password\u001b[38;5;241m=\u001b[39m\u001b[38;5;28;01mFalse\u001b[39;00m,\n\u001b[0;32m   1267\u001b[0m )\n",
      "File \u001b[1;32m~\\anaconda3-\\Lib\\site-packages\\ipykernel\\kernelbase.py:1305\u001b[0m, in \u001b[0;36mKernel._input_request\u001b[1;34m(self, prompt, ident, parent, password)\u001b[0m\n\u001b[0;32m   1302\u001b[0m \u001b[38;5;28;01mexcept\u001b[39;00m \u001b[38;5;167;01mKeyboardInterrupt\u001b[39;00m:\n\u001b[0;32m   1303\u001b[0m     \u001b[38;5;66;03m# re-raise KeyboardInterrupt, to truncate traceback\u001b[39;00m\n\u001b[0;32m   1304\u001b[0m     msg \u001b[38;5;241m=\u001b[39m \u001b[38;5;124m\"\u001b[39m\u001b[38;5;124mInterrupted by user\u001b[39m\u001b[38;5;124m\"\u001b[39m\n\u001b[1;32m-> 1305\u001b[0m     \u001b[38;5;28;01mraise\u001b[39;00m \u001b[38;5;167;01mKeyboardInterrupt\u001b[39;00m(msg) \u001b[38;5;28;01mfrom\u001b[39;00m \u001b[38;5;28;01mNone\u001b[39;00m\n\u001b[0;32m   1306\u001b[0m \u001b[38;5;28;01mexcept\u001b[39;00m \u001b[38;5;167;01mException\u001b[39;00m:\n\u001b[0;32m   1307\u001b[0m     \u001b[38;5;28mself\u001b[39m\u001b[38;5;241m.\u001b[39mlog\u001b[38;5;241m.\u001b[39mwarning(\u001b[38;5;124m\"\u001b[39m\u001b[38;5;124mInvalid Message:\u001b[39m\u001b[38;5;124m\"\u001b[39m, exc_info\u001b[38;5;241m=\u001b[39m\u001b[38;5;28;01mTrue\u001b[39;00m)\n",
      "\u001b[1;31mKeyboardInterrupt\u001b[0m: Interrupted by user"
     ]
    }
   ],
   "source": [
    "number = 0\n",
    "while number !=4:\n",
    "    print(prompt)\n",
    "    number = int(input())"
   ]
  },
  {
   "cell_type": "markdown",
   "id": "7bad7dd4-298d-4299-a975-d1415632a249",
   "metadata": {},
   "source": [
    "## while문 강제로 빠져나가기"
   ]
  },
  {
   "cell_type": "code",
   "execution_count": null,
   "id": "71b34ee7-a5d6-4456-a9c2-696fc8d51727",
   "metadata": {},
   "outputs": [],
   "source": [
    "coffee = 10\n",
    "money = 300\n",
    "\n",
    "while money :\n",
    "    print('돈을 받았으니 커피를 줍니다.')\n",
    "    coffee = coffee -1\n",
    "    print(f'남은 커피의 양은 {coffee}')\n",
    "    if coffee == 0;\n",
    "        print('커피가 다 떨어져서 판매를 중지합니다.')\n",
    "        break"
   ]
  },
  {
   "cell_type": "code",
   "execution_count": 37,
   "id": "e4470d67-c231-4fac-a874-91b9cdfbb390",
   "metadata": {},
   "outputs": [
    {
     "ename": "KeyboardInterrupt",
     "evalue": "Interrupted by user",
     "output_type": "error",
     "traceback": [
      "\u001b[1;31m---------------------------------------------------------------------------\u001b[0m",
      "\u001b[1;31mKeyboardInterrupt\u001b[0m                         Traceback (most recent call last)",
      "Cell \u001b[1;32mIn[37], line 5\u001b[0m\n\u001b[0;32m      2\u001b[0m stock\u001b[38;5;241m=\u001b[39m\u001b[38;5;241m10\u001b[39m\n\u001b[0;32m      4\u001b[0m \u001b[38;5;28;01mwhile\u001b[39;00m stock \u001b[38;5;241m>\u001b[39m \u001b[38;5;241m0\u001b[39m:\n\u001b[1;32m----> 5\u001b[0m     money\u001b[38;5;241m=\u001b[39m\u001b[38;5;28mint\u001b[39m(\u001b[38;5;28minput\u001b[39m(\u001b[38;5;124m'\u001b[39m\u001b[38;5;124m돈\u001b[39m\u001b[38;5;124m'\u001b[39m))\n\u001b[0;32m      6\u001b[0m     \u001b[38;5;28;01mif\u001b[39;00m money \u001b[38;5;241m<\u001b[39m coffee:\n\u001b[0;32m      7\u001b[0m         \u001b[38;5;28mprint\u001b[39m(\u001b[38;5;124mf\u001b[39m\u001b[38;5;124m'\u001b[39m\u001b[38;5;124m금액이 부족합니다.\u001b[39m\u001b[38;5;124m'\u001b[39m)\n",
      "File \u001b[1;32m~\\anaconda3-\\Lib\\site-packages\\ipykernel\\kernelbase.py:1262\u001b[0m, in \u001b[0;36mKernel.raw_input\u001b[1;34m(self, prompt)\u001b[0m\n\u001b[0;32m   1260\u001b[0m     msg \u001b[38;5;241m=\u001b[39m \u001b[38;5;124m\"\u001b[39m\u001b[38;5;124mraw_input was called, but this frontend does not support input requests.\u001b[39m\u001b[38;5;124m\"\u001b[39m\n\u001b[0;32m   1261\u001b[0m     \u001b[38;5;28;01mraise\u001b[39;00m StdinNotImplementedError(msg)\n\u001b[1;32m-> 1262\u001b[0m \u001b[38;5;28;01mreturn\u001b[39;00m \u001b[38;5;28mself\u001b[39m\u001b[38;5;241m.\u001b[39m_input_request(\n\u001b[0;32m   1263\u001b[0m     \u001b[38;5;28mstr\u001b[39m(prompt),\n\u001b[0;32m   1264\u001b[0m     \u001b[38;5;28mself\u001b[39m\u001b[38;5;241m.\u001b[39m_parent_ident[\u001b[38;5;124m\"\u001b[39m\u001b[38;5;124mshell\u001b[39m\u001b[38;5;124m\"\u001b[39m],\n\u001b[0;32m   1265\u001b[0m     \u001b[38;5;28mself\u001b[39m\u001b[38;5;241m.\u001b[39mget_parent(\u001b[38;5;124m\"\u001b[39m\u001b[38;5;124mshell\u001b[39m\u001b[38;5;124m\"\u001b[39m),\n\u001b[0;32m   1266\u001b[0m     password\u001b[38;5;241m=\u001b[39m\u001b[38;5;28;01mFalse\u001b[39;00m,\n\u001b[0;32m   1267\u001b[0m )\n",
      "File \u001b[1;32m~\\anaconda3-\\Lib\\site-packages\\ipykernel\\kernelbase.py:1305\u001b[0m, in \u001b[0;36mKernel._input_request\u001b[1;34m(self, prompt, ident, parent, password)\u001b[0m\n\u001b[0;32m   1302\u001b[0m \u001b[38;5;28;01mexcept\u001b[39;00m \u001b[38;5;167;01mKeyboardInterrupt\u001b[39;00m:\n\u001b[0;32m   1303\u001b[0m     \u001b[38;5;66;03m# re-raise KeyboardInterrupt, to truncate traceback\u001b[39;00m\n\u001b[0;32m   1304\u001b[0m     msg \u001b[38;5;241m=\u001b[39m \u001b[38;5;124m\"\u001b[39m\u001b[38;5;124mInterrupted by user\u001b[39m\u001b[38;5;124m\"\u001b[39m\n\u001b[1;32m-> 1305\u001b[0m     \u001b[38;5;28;01mraise\u001b[39;00m \u001b[38;5;167;01mKeyboardInterrupt\u001b[39;00m(msg) \u001b[38;5;28;01mfrom\u001b[39;00m \u001b[38;5;28;01mNone\u001b[39;00m\n\u001b[0;32m   1306\u001b[0m \u001b[38;5;28;01mexcept\u001b[39;00m \u001b[38;5;167;01mException\u001b[39;00m:\n\u001b[0;32m   1307\u001b[0m     \u001b[38;5;28mself\u001b[39m\u001b[38;5;241m.\u001b[39mlog\u001b[38;5;241m.\u001b[39mwarning(\u001b[38;5;124m\"\u001b[39m\u001b[38;5;124mInvalid Message:\u001b[39m\u001b[38;5;124m\"\u001b[39m, exc_info\u001b[38;5;241m=\u001b[39m\u001b[38;5;28;01mTrue\u001b[39;00m)\n",
      "\u001b[1;31mKeyboardInterrupt\u001b[0m: Interrupted by user"
     ]
    }
   ],
   "source": [
    "coffee=300\n",
    "stock=10\n",
    "\n",
    "while stock > 0:\n",
    "    money=int(input('돈'))\n",
    "    if money < coffee:\n",
    "        print(f'금액이 부족합니다.')\n",
    "    elif money == coffee:\n",
    "        print('커피를 줍니다.')\n",
    "    else:\n",
    "        change = money-coffee\n",
    "        print(f'커피를 줍니다. 잔돈 {change}원')\n",
    "        break"
   ]
  },
  {
   "cell_type": "code",
   "execution_count": 38,
   "id": "3de4285b-3a36-445f-b01d-083bc95d5745",
   "metadata": {},
   "outputs": [
    {
     "name": "stdin",
     "output_type": "stream",
     "text": [
      "금액을 입력하세요:  1000\n"
     ]
    },
    {
     "name": "stdout",
     "output_type": "stream",
     "text": [
      "커피를 받으세요. 잔돈 700원을 거슬러 드립니다.\n",
      "남은 커피 재고: 9잔\n"
     ]
    },
    {
     "name": "stdin",
     "output_type": "stream",
     "text": [
      "금액을 입력하세요:  커피줘\n"
     ]
    },
    {
     "name": "stdout",
     "output_type": "stream",
     "text": [
      "유효한 금액을 입력하세요.\n"
     ]
    },
    {
     "ename": "KeyboardInterrupt",
     "evalue": "Interrupted by user",
     "output_type": "error",
     "traceback": [
      "\u001b[1;31m---------------------------------------------------------------------------\u001b[0m",
      "\u001b[1;31mKeyboardInterrupt\u001b[0m                         Traceback (most recent call last)",
      "Cell \u001b[1;32mIn[38], line 26\u001b[0m\n\u001b[0;32m     22\u001b[0m         \u001b[38;5;28mprint\u001b[39m(\u001b[38;5;124mf\u001b[39m\u001b[38;5;124m\"\u001b[39m\u001b[38;5;124m남은 커피 재고: \u001b[39m\u001b[38;5;132;01m{\u001b[39;00mstock\u001b[38;5;132;01m}\u001b[39;00m\u001b[38;5;124m잔\u001b[39m\u001b[38;5;124m\"\u001b[39m)\n\u001b[0;32m     24\u001b[0m     \u001b[38;5;28mprint\u001b[39m(\u001b[38;5;124m\"\u001b[39m\u001b[38;5;124m커피 재고가 모두 소진되었습니다. 프로그램을 종료합니다.\u001b[39m\u001b[38;5;124m\"\u001b[39m)\n\u001b[1;32m---> 26\u001b[0m coffee_machine()\n",
      "Cell \u001b[1;32mIn[38], line 7\u001b[0m, in \u001b[0;36mcoffee_machine\u001b[1;34m()\u001b[0m\n\u001b[0;32m      5\u001b[0m \u001b[38;5;28;01mwhile\u001b[39;00m stock \u001b[38;5;241m>\u001b[39m \u001b[38;5;241m0\u001b[39m:\n\u001b[0;32m      6\u001b[0m     \u001b[38;5;28;01mtry\u001b[39;00m:\n\u001b[1;32m----> 7\u001b[0m         money \u001b[38;5;241m=\u001b[39m \u001b[38;5;28mint\u001b[39m(\u001b[38;5;28minput\u001b[39m(\u001b[38;5;124m\"\u001b[39m\u001b[38;5;124m금액을 입력하세요: \u001b[39m\u001b[38;5;124m\"\u001b[39m))\n\u001b[0;32m      8\u001b[0m     \u001b[38;5;28;01mexcept\u001b[39;00m \u001b[38;5;167;01mValueError\u001b[39;00m:\n\u001b[0;32m      9\u001b[0m         \u001b[38;5;28mprint\u001b[39m(\u001b[38;5;124m\"\u001b[39m\u001b[38;5;124m유효한 금액을 입력하세요.\u001b[39m\u001b[38;5;124m\"\u001b[39m)\n",
      "File \u001b[1;32m~\\anaconda3-\\Lib\\site-packages\\ipykernel\\kernelbase.py:1262\u001b[0m, in \u001b[0;36mKernel.raw_input\u001b[1;34m(self, prompt)\u001b[0m\n\u001b[0;32m   1260\u001b[0m     msg \u001b[38;5;241m=\u001b[39m \u001b[38;5;124m\"\u001b[39m\u001b[38;5;124mraw_input was called, but this frontend does not support input requests.\u001b[39m\u001b[38;5;124m\"\u001b[39m\n\u001b[0;32m   1261\u001b[0m     \u001b[38;5;28;01mraise\u001b[39;00m StdinNotImplementedError(msg)\n\u001b[1;32m-> 1262\u001b[0m \u001b[38;5;28;01mreturn\u001b[39;00m \u001b[38;5;28mself\u001b[39m\u001b[38;5;241m.\u001b[39m_input_request(\n\u001b[0;32m   1263\u001b[0m     \u001b[38;5;28mstr\u001b[39m(prompt),\n\u001b[0;32m   1264\u001b[0m     \u001b[38;5;28mself\u001b[39m\u001b[38;5;241m.\u001b[39m_parent_ident[\u001b[38;5;124m\"\u001b[39m\u001b[38;5;124mshell\u001b[39m\u001b[38;5;124m\"\u001b[39m],\n\u001b[0;32m   1265\u001b[0m     \u001b[38;5;28mself\u001b[39m\u001b[38;5;241m.\u001b[39mget_parent(\u001b[38;5;124m\"\u001b[39m\u001b[38;5;124mshell\u001b[39m\u001b[38;5;124m\"\u001b[39m),\n\u001b[0;32m   1266\u001b[0m     password\u001b[38;5;241m=\u001b[39m\u001b[38;5;28;01mFalse\u001b[39;00m,\n\u001b[0;32m   1267\u001b[0m )\n",
      "File \u001b[1;32m~\\anaconda3-\\Lib\\site-packages\\ipykernel\\kernelbase.py:1305\u001b[0m, in \u001b[0;36mKernel._input_request\u001b[1;34m(self, prompt, ident, parent, password)\u001b[0m\n\u001b[0;32m   1302\u001b[0m \u001b[38;5;28;01mexcept\u001b[39;00m \u001b[38;5;167;01mKeyboardInterrupt\u001b[39;00m:\n\u001b[0;32m   1303\u001b[0m     \u001b[38;5;66;03m# re-raise KeyboardInterrupt, to truncate traceback\u001b[39;00m\n\u001b[0;32m   1304\u001b[0m     msg \u001b[38;5;241m=\u001b[39m \u001b[38;5;124m\"\u001b[39m\u001b[38;5;124mInterrupted by user\u001b[39m\u001b[38;5;124m\"\u001b[39m\n\u001b[1;32m-> 1305\u001b[0m     \u001b[38;5;28;01mraise\u001b[39;00m \u001b[38;5;167;01mKeyboardInterrupt\u001b[39;00m(msg) \u001b[38;5;28;01mfrom\u001b[39;00m \u001b[38;5;28;01mNone\u001b[39;00m\n\u001b[0;32m   1306\u001b[0m \u001b[38;5;28;01mexcept\u001b[39;00m \u001b[38;5;167;01mException\u001b[39;00m:\n\u001b[0;32m   1307\u001b[0m     \u001b[38;5;28mself\u001b[39m\u001b[38;5;241m.\u001b[39mlog\u001b[38;5;241m.\u001b[39mwarning(\u001b[38;5;124m\"\u001b[39m\u001b[38;5;124mInvalid Message:\u001b[39m\u001b[38;5;124m\"\u001b[39m, exc_info\u001b[38;5;241m=\u001b[39m\u001b[38;5;28;01mTrue\u001b[39;00m)\n",
      "\u001b[1;31mKeyboardInterrupt\u001b[0m: Interrupted by user"
     ]
    }
   ],
   "source": [
    "def coffee_machine():\n",
    "    coffee_price = 300\n",
    "    stock = 10\n",
    "\n",
    "    while stock > 0:\n",
    "        try:\n",
    "            money = int(input(\"금액을 입력하세요: \"))\n",
    "        except ValueError:\n",
    "            print(\"유효한 금액을 입력하세요.\")\n",
    "            continue\n",
    "\n",
    "        if money < coffee_price:\n",
    "            print(f\"금액이 부족합니다. {coffee_price - money}원이 더 필요합니다.\")\n",
    "        elif money == coffee_price:\n",
    "            stock -= 1\n",
    "            print(\"커피를 받으세요.\")\n",
    "        else:\n",
    "            stock -= 1\n",
    "            change = money - coffee_price\n",
    "            print(f\"커피를 받으세요. 잔돈 {change}원을 거슬러 드립니다.\")\n",
    "\n",
    "        print(f\"남은 커피 재고: {stock}잔\")\n",
    "\n",
    "    print(\"커피 재고가 모두 소진되었습니다. 프로그램을 종료합니다.\")\n",
    "\n",
    "coffee_machine()\n"
   ]
  },
  {
   "cell_type": "code",
   "execution_count": 46,
   "id": "7c7f2908-c0ce-4165-97d6-88609bb9746c",
   "metadata": {},
   "outputs": [
    {
     "name": "stdin",
     "output_type": "stream",
     "text": [
      "돈줘 300\n"
     ]
    },
    {
     "name": "stdout",
     "output_type": "stream",
     "text": [
      "300원 완료!!!! 커피 줄게, 남은커피-1\n"
     ]
    }
   ],
   "source": [
    "coffee = 10\n",
    "change = money-300\n",
    "while True :\n",
    "    money=int(input('돈줘'))\n",
    "    if money == 300:\n",
    "        coffee =-1\n",
    "        print(f'300원 완료!!!! 커피 줄게, 남은커피{coffee}')\n",
    "    elif money > 300:\n",
    "        print('거스름돈 {change}, 커피 줄게')\n",
    "    else : #money < 300\n",
    "        print('돈 부족. 커피 못줘.')\n",
    "    if coffee == 0:\n",
    "        print('커피 끝!')\n",
    "    break"
   ]
  },
  {
   "cell_type": "markdown",
   "id": "9390a414-b3c6-457a-8e8c-4d3478fd2e50",
   "metadata": {},
   "source": [
    "## 숙제하자"
   ]
  },
  {
   "cell_type": "code",
   "execution_count": 1,
   "id": "ebc6f0c9-db52-4b3c-9aa3-90cfa54979c6",
   "metadata": {},
   "outputs": [
    {
     "data": {
      "text/plain": [
       "[2, 3, 4, 5]"
      ]
     },
     "execution_count": 1,
     "metadata": {},
     "output_type": "execute_result"
    }
   ],
   "source": [
    "a, b, *c = (0, 1, 2, 3, 4, 5)\n",
    "a\n",
    "0\n",
    "b\n",
    "1\n",
    "c\n",
    "[2, 3, 4, 5]\n"
   ]
  },
  {
   "cell_type": "code",
   "execution_count": 5,
   "id": "1d6fbc49-3510-4694-afeb-fb09726f7dd5",
   "metadata": {},
   "outputs": [
    {
     "data": {
      "text/plain": [
       "[8.7, 9.2, 9.3, 9.7, 9.9, 9.5, 7.8, 9.4]"
      ]
     },
     "execution_count": 5,
     "metadata": {},
     "output_type": "execute_result"
    }
   ],
   "source": [
    "a, b, c, d, e, f, g, *h = (8.8, 8.9, 8.7, 9.2, 9.3, 9.7, 9.9, 9.5, 7.8, 9.4)\n",
    "a\n",
    "8.8\n",
    "b\n",
    "8.9\n",
    "c\n",
    "[8.7, 9.2, 9.3, 9.7, 9.9, 9.5, 7.8, 9.4]"
   ]
  },
  {
   "cell_type": "code",
   "execution_count": 6,
   "id": "5df58d1f-431d-4a63-9312-bd84af59014d",
   "metadata": {},
   "outputs": [
    {
     "name": "stdout",
     "output_type": "stream",
     "text": [
      "[8.8, 8.9, 8.7, 9.2, 9.3, 9.7, 9.9, 9.5]\n"
     ]
    }
   ],
   "source": [
    "scores = [8.8, 8.9, 8.7, 9.2, 9.3, 9.7, 9.9, 9.5, 7.8, 9.4]\n",
    "\n",
    "*valid_score, _, _=scores\n",
    "\n",
    "print(valid_score)"
   ]
  },
  {
   "cell_type": "code",
   "execution_count": 8,
   "id": "0154d63f-db25-40c1-83e8-d4015296bd88",
   "metadata": {},
   "outputs": [
    {
     "name": "stdout",
     "output_type": "stream",
     "text": [
      "[8.7, 9.2, 9.3, 9.7, 9.9, 9.5, 7.8, 9.4]\n"
     ]
    }
   ],
   "source": [
    "scores = [8.8, 8.9, 8.7, 9.2, 9.3, 9.7, 9.9, 9.5, 7.8, 9.4]\n",
    "_, _, *valid_score = scores\n",
    "print(valid_score)"
   ]
  },
  {
   "cell_type": "code",
   "execution_count": 9,
   "id": "fa1a35a1-5381-46d9-b454-03efddad9e4f",
   "metadata": {},
   "outputs": [
    {
     "name": "stdout",
     "output_type": "stream",
     "text": [
      "[8.9, 8.7, 9.2, 9.3, 9.7, 9.9, 9.5, 7.8]\n"
     ]
    }
   ],
   "source": [
    "scores = [8.8, 8.9, 8.7, 9.2, 9.3, 9.7, 9.9, 9.5, 7.8, 9.4]\n",
    "_, *valid_score,_ = scores\n",
    "print(valid_score)"
   ]
  },
  {
   "cell_type": "code",
   "execution_count": 11,
   "id": "c82bc953-f96e-4af5-884e-85b7b852110b",
   "metadata": {},
   "outputs": [],
   "source": [
    "temp = {' ':' '}"
   ]
  },
  {
   "cell_type": "code",
   "execution_count": 12,
   "id": "b41a52ac-bad9-4190-96bc-1ae135fe26aa",
   "metadata": {},
   "outputs": [],
   "source": [
    "temp = {}"
   ]
  },
  {
   "cell_type": "code",
   "execution_count": 13,
   "id": "3b63ec9a-1923-4384-9e5b-7ed2476fd610",
   "metadata": {},
   "outputs": [],
   "source": [
    "temp = { }"
   ]
  },
  {
   "cell_type": "code",
   "execution_count": 14,
   "id": "da5af2d7-eff5-412e-b950-4d5b373fa34e",
   "metadata": {},
   "outputs": [
    {
     "name": "stdout",
     "output_type": "stream",
     "text": [
      "<class 'dict'>\n"
     ]
    }
   ],
   "source": [
    "print(type(temp))"
   ]
  },
  {
   "cell_type": "code",
   "execution_count": 20,
   "id": "2824438e-eabc-4cb5-b12b-350be42885dd",
   "metadata": {},
   "outputs": [
    {
     "name": "stdout",
     "output_type": "stream",
     "text": [
      "{'메로나': 1000, '폴라포': 1200, '빵빠레': 1800}\n"
     ]
    }
   ],
   "source": [
    "ice_cream = {'메로나':1000, '폴라포':1200, '빵빠레':1800}\n",
    "print(ice_cream)"
   ]
  },
  {
   "cell_type": "code",
   "execution_count": 25,
   "id": "44ce365d-e770-4f37-9a75-916b874f89ec",
   "metadata": {},
   "outputs": [
    {
     "name": "stdout",
     "output_type": "stream",
     "text": [
      "{'메로나': 1000, '폴라포': 1200, '빵빠레': 1800, 3: {'죠스바': 1200, '월드콘': 1500}}\n"
     ]
    }
   ],
   "source": [
    "ice_cream = {'메로나':1000, '폴라포':1200, '빵빠레':1800}\n",
    "ice_cream[3] = {'죠스바':1200, '월드콘':1500}\n",
    "print(ice_cream)"
   ]
  },
  {
   "cell_type": "code",
   "execution_count": 30,
   "id": "889b0cad-c8cf-43a3-b0a4-8e46307f0480",
   "metadata": {},
   "outputs": [
    {
     "name": "stdout",
     "output_type": "stream",
     "text": [
      "메로나 가격 : 1000\n"
     ]
    }
   ],
   "source": [
    "ice = {'메로나': 1000,\n",
    "       '폴로포': 1200,\n",
    "       '빵빠레': 1800,\n",
    "       '죠스바': 1200,\n",
    "       '월드콘': 1500}\n",
    "print('메로나 가격 :', ice['메로나'])"
   ]
  },
  {
   "cell_type": "code",
   "execution_count": 32,
   "id": "a1974293-a809-4149-857f-2c7f4991dfd5",
   "metadata": {},
   "outputs": [
    {
     "name": "stdout",
     "output_type": "stream",
     "text": [
      "메로나 가격: 1300\n"
     ]
    }
   ],
   "source": [
    "ice = {'메로나': 1000,\n",
    "       '폴로포': 1200,\n",
    "       '빵빠레': 1800,\n",
    "       '죠스바': 1200,\n",
    "       '월드콘': 1500}\n",
    "ice['메로나']=1300\n",
    "print('메로나 가격:',ice['메로나'])"
   ]
  },
  {
   "cell_type": "code",
   "execution_count": 39,
   "id": "e7d95dbd-7bca-4dab-aa44-10d7d7af35c5",
   "metadata": {},
   "outputs": [
    {
     "name": "stdout",
     "output_type": "stream",
     "text": [
      "{'폴로포': 1200, '빵빠레': 1800, '죠스바': 1200, '월드콘': 1500}\n"
     ]
    }
   ],
   "source": [
    "ice = {'메로나': 1000,\n",
    "       '폴로포': 1200,\n",
    "       '빵빠레': 1800,\n",
    "       '죠스바': 1200,\n",
    "       '월드콘': 1500}\n",
    "del(ice['메로나'])\n",
    "print(ice)"
   ]
  },
  {
   "cell_type": "code",
   "execution_count": 40,
   "id": "cb77b046-6924-4a4a-be3b-103099a14c3d",
   "metadata": {},
   "outputs": [
    {
     "name": "stdout",
     "output_type": "stream",
     "text": [
      "{'메로나': [300, 20], '비비빅': [400, 3], '죠스바': [250, 100]}\n"
     ]
    }
   ],
   "source": [
    "inventory={'메로나':[300,20], '비비빅':[400,3], '죠스바':[250,100]}\n",
    "print(inventory)"
   ]
  },
  {
   "cell_type": "code",
   "execution_count": 45,
   "id": "231c4892-1259-41e2-bca1-9135bdb42477",
   "metadata": {},
   "outputs": [
    {
     "name": "stdout",
     "output_type": "stream",
     "text": [
      "300 원\n"
     ]
    }
   ],
   "source": [
    "inventory = {\"메로나\": [300, 20],\n",
    "              \"비비빅\": [400, 3],\n",
    "              \"죠스바\": [250, 100]}\n",
    "print(inventory['메로나'][0], '원')"
   ]
  },
  {
   "cell_type": "code",
   "execution_count": 46,
   "id": "7215426e-50ee-47e9-b7d6-e30ff314fd02",
   "metadata": {},
   "outputs": [
    {
     "name": "stdout",
     "output_type": "stream",
     "text": [
      "20 개\n"
     ]
    }
   ],
   "source": [
    "inventory = {\"메로나\": [300, 20],\n",
    "              \"비비빅\": [400, 3],\n",
    "              \"죠스바\": [250, 100]}\n",
    "print(inventory['메로나'][1], '개')"
   ]
  },
  {
   "cell_type": "code",
   "execution_count": 2,
   "id": "ff67ab9a-f933-47ef-a197-ef3beef8fb56",
   "metadata": {},
   "outputs": [
    {
     "name": "stdout",
     "output_type": "stream",
     "text": [
      "{'메로나': [300, 20], '비비빅': [400, 3], '죠스바': [250, 100], '월드콘': [500, 7]}\n"
     ]
    }
   ],
   "source": [
    "inventory={'메로나':[300,20], '비비빅':[400,3], '죠스바':[250,100]}\n",
    "inventory['월드콘']=[500, 7]\n",
    "print(inventory)"
   ]
  },
  {
   "cell_type": "code",
   "execution_count": 1,
   "id": "c1818382-5cf6-43a3-ba0c-2b096271ec7e",
   "metadata": {},
   "outputs": [
    {
     "ename": "NameError",
     "evalue": "name 'dict_keys' is not defined",
     "output_type": "error",
     "traceback": [
      "\u001b[1;31m---------------------------------------------------------------------------\u001b[0m",
      "\u001b[1;31mNameError\u001b[0m                                 Traceback (most recent call last)",
      "Cell \u001b[1;32mIn[1], line 3\u001b[0m\n\u001b[0;32m      1\u001b[0m icecream \u001b[38;5;241m=\u001b[39m {\u001b[38;5;124m'\u001b[39m\u001b[38;5;124m탱크보이\u001b[39m\u001b[38;5;124m'\u001b[39m: \u001b[38;5;241m1200\u001b[39m, \u001b[38;5;124m'\u001b[39m\u001b[38;5;124m폴라포\u001b[39m\u001b[38;5;124m'\u001b[39m: \u001b[38;5;241m1200\u001b[39m, \u001b[38;5;124m'\u001b[39m\u001b[38;5;124m빵빠레\u001b[39m\u001b[38;5;124m'\u001b[39m: \u001b[38;5;241m1800\u001b[39m, \u001b[38;5;124m'\u001b[39m\u001b[38;5;124m월드콘\u001b[39m\u001b[38;5;124m'\u001b[39m: \u001b[38;5;241m1500\u001b[39m, \u001b[38;5;124m'\u001b[39m\u001b[38;5;124m메로나\u001b[39m\u001b[38;5;124m'\u001b[39m: \u001b[38;5;241m1000\u001b[39m}\n\u001b[0;32m      2\u001b[0m icecream\u001b[38;5;241m.\u001b[39mkeys()\n\u001b[1;32m----> 3\u001b[0m dict_keys([\u001b[38;5;124m'\u001b[39m\u001b[38;5;124m탱크보이\u001b[39m\u001b[38;5;124m'\u001b[39m, \u001b[38;5;124m'\u001b[39m\u001b[38;5;124m폴라포\u001b[39m\u001b[38;5;124m'\u001b[39m, \u001b[38;5;124m'\u001b[39m\u001b[38;5;124m빵빠레\u001b[39m\u001b[38;5;124m'\u001b[39m, \u001b[38;5;124m'\u001b[39m\u001b[38;5;124m월드콘\u001b[39m\u001b[38;5;124m'\u001b[39m, \u001b[38;5;124m'\u001b[39m\u001b[38;5;124m메로나\u001b[39m\u001b[38;5;124m'\u001b[39m])\n\u001b[0;32m      4\u001b[0m \u001b[38;5;28mprint\u001b[39m(icecream)\n",
      "\u001b[1;31mNameError\u001b[0m: name 'dict_keys' is not defined"
     ]
    }
   ],
   "source": [
    "icecream = {'탱크보이': 1200, '폴라포': 1200, '빵빠레': 1800, '월드콘': 1500, '메로나': 1000}\n",
    "icecream.keys()\n",
    "dict_keys(['탱크보이', '폴라포', '빵빠레', '월드콘', '메로나'])\n",
    "print(icecream)"
   ]
  },
  {
   "cell_type": "code",
   "execution_count": 2,
   "id": "ce2e8508-cccf-418c-bba0-e008abc29867",
   "metadata": {},
   "outputs": [
    {
     "name": "stdout",
     "output_type": "stream",
     "text": [
      "['탱크보이', '폴라포', '빵빠레', '월드콘', '메로나']\n"
     ]
    }
   ],
   "source": [
    "icecream = {'탱크보이': 1200, '폴라포': 1200, '빵빠레': 1800, '월드콘': 1500, '메로나': 1000}\n",
    "ice = list(icecream.keys())\n",
    "print(ice)"
   ]
  },
  {
   "cell_type": "code",
   "execution_count": 3,
   "id": "3f5851ad-c689-4a09-92cb-0f8b2de30129",
   "metadata": {},
   "outputs": [
    {
     "name": "stdout",
     "output_type": "stream",
     "text": [
      "[1200, 1200, 1800, 1500, 1000]\n"
     ]
    }
   ],
   "source": [
    "icecream = {'탱크보이': 1200, '폴라포': 1200, '빵빠레': 1800, '월드콘': 1500, '메로나': 1000}\n",
    "ice=list(icecream.values())\n",
    "print(ice)"
   ]
  },
  {
   "cell_type": "code",
   "execution_count": 4,
   "id": "5ecb81b1-a036-44e1-a917-f95f1ecf42d4",
   "metadata": {},
   "outputs": [
    {
     "name": "stdout",
     "output_type": "stream",
     "text": [
      "6700\n"
     ]
    }
   ],
   "source": [
    "icecream = {'탱크보이': 1200, '폴라포': 1200, '빵빠레': 1800, '월드콘': 1500, '메로나': 1000}\n",
    "ice=list(icecream.values())\n",
    "print(sum(ice))"
   ]
  },
  {
   "cell_type": "code",
   "execution_count": 8,
   "id": "5c947578-9536-4c10-8f87-8a2656c5883a",
   "metadata": {},
   "outputs": [
    {
     "name": "stdout",
     "output_type": "stream",
     "text": [
      "{'탱크보이': 1200, '폴라포': 1200, '빵빠레': 1800, '월드콘': 1500, '메로나': 1000, '팥빙수': 2700, '아맛나': 1000}\n"
     ]
    }
   ],
   "source": [
    "icecream = {'탱크보이': 1200, '폴라포': 1200, '빵빠레': 1800, '월드콘': 1500, '메로나': 1000}\n",
    "new_product = {'팥빙수':2700, '아맛나':1000}\n",
    "icecream['팥빙수']=2700\n",
    "icecream['아맛나']=1000\n",
    "print(icecream)"
   ]
  },
  {
   "cell_type": "code",
   "execution_count": 15,
   "id": "b8d3ee02-7e81-4f3b-a476-cd28479ee064",
   "metadata": {},
   "outputs": [
    {
     "name": "stdout",
     "output_type": "stream",
     "text": [
      "{'apple': 300, 'pear': 250, 'peach': 400}\n"
     ]
    }
   ],
   "source": [
    "keys=['apple', 'pear', 'peach']\n",
    "vals=[300, 250, 400]\n",
    "result=dict(zip(keys, vals))\n",
    "print(result)"
   ]
  },
  {
   "cell_type": "code",
   "execution_count": 16,
   "id": "1bfb1d82-5347-42a3-8bf6-8ead9d58732a",
   "metadata": {},
   "outputs": [
    {
     "name": "stdout",
     "output_type": "stream",
     "text": [
      "{'09/05': 10500, '09/06': 10300, '09/07': 10100, '09/08': 10800, '09/09': 11000}\n"
     ]
    }
   ],
   "source": [
    "keys = ['09/05', '09/06', '09/07', '09/08', '09/09']\n",
    "vals = [10500, 10300, 10100, 10800, 11000]\n",
    "close_table = dict(zip(keys, vals))\n",
    "print(close_table)"
   ]
  },
  {
   "cell_type": "code",
   "execution_count": 21,
   "id": "55c1b6a1-212c-4ff1-bbcb-46e26adabb6c",
   "metadata": {},
   "outputs": [
    {
     "ename": "KeyboardInterrupt",
     "evalue": "Interrupted by user",
     "output_type": "error",
     "traceback": [
      "\u001b[1;31m---------------------------------------------------------------------------\u001b[0m",
      "\u001b[1;31mKeyboardInterrupt\u001b[0m                         Traceback (most recent call last)",
      "Cell \u001b[1;32mIn[21], line 1\u001b[0m\n\u001b[1;32m----> 1\u001b[0m user \u001b[38;5;241m=\u001b[39m \u001b[38;5;28minput\u001b[39m(\u001b[38;5;124m'\u001b[39m\u001b[38;5;124m안녕하세요\u001b[39m\u001b[38;5;124m'\u001b[39m)\n\u001b[0;32m      2\u001b[0m \u001b[38;5;28mprint\u001b[39m(user\u001b[38;5;241m*\u001b[39m\u001b[38;5;241m2\u001b[39m)\n",
      "File \u001b[1;32m~\\anaconda3-\\Lib\\site-packages\\ipykernel\\kernelbase.py:1262\u001b[0m, in \u001b[0;36mKernel.raw_input\u001b[1;34m(self, prompt)\u001b[0m\n\u001b[0;32m   1260\u001b[0m     msg \u001b[38;5;241m=\u001b[39m \u001b[38;5;124m\"\u001b[39m\u001b[38;5;124mraw_input was called, but this frontend does not support input requests.\u001b[39m\u001b[38;5;124m\"\u001b[39m\n\u001b[0;32m   1261\u001b[0m     \u001b[38;5;28;01mraise\u001b[39;00m StdinNotImplementedError(msg)\n\u001b[1;32m-> 1262\u001b[0m \u001b[38;5;28;01mreturn\u001b[39;00m \u001b[38;5;28mself\u001b[39m\u001b[38;5;241m.\u001b[39m_input_request(\n\u001b[0;32m   1263\u001b[0m     \u001b[38;5;28mstr\u001b[39m(prompt),\n\u001b[0;32m   1264\u001b[0m     \u001b[38;5;28mself\u001b[39m\u001b[38;5;241m.\u001b[39m_parent_ident[\u001b[38;5;124m\"\u001b[39m\u001b[38;5;124mshell\u001b[39m\u001b[38;5;124m\"\u001b[39m],\n\u001b[0;32m   1265\u001b[0m     \u001b[38;5;28mself\u001b[39m\u001b[38;5;241m.\u001b[39mget_parent(\u001b[38;5;124m\"\u001b[39m\u001b[38;5;124mshell\u001b[39m\u001b[38;5;124m\"\u001b[39m),\n\u001b[0;32m   1266\u001b[0m     password\u001b[38;5;241m=\u001b[39m\u001b[38;5;28;01mFalse\u001b[39;00m,\n\u001b[0;32m   1267\u001b[0m )\n",
      "File \u001b[1;32m~\\anaconda3-\\Lib\\site-packages\\ipykernel\\kernelbase.py:1305\u001b[0m, in \u001b[0;36mKernel._input_request\u001b[1;34m(self, prompt, ident, parent, password)\u001b[0m\n\u001b[0;32m   1302\u001b[0m \u001b[38;5;28;01mexcept\u001b[39;00m \u001b[38;5;167;01mKeyboardInterrupt\u001b[39;00m:\n\u001b[0;32m   1303\u001b[0m     \u001b[38;5;66;03m# re-raise KeyboardInterrupt, to truncate traceback\u001b[39;00m\n\u001b[0;32m   1304\u001b[0m     msg \u001b[38;5;241m=\u001b[39m \u001b[38;5;124m\"\u001b[39m\u001b[38;5;124mInterrupted by user\u001b[39m\u001b[38;5;124m\"\u001b[39m\n\u001b[1;32m-> 1305\u001b[0m     \u001b[38;5;28;01mraise\u001b[39;00m \u001b[38;5;167;01mKeyboardInterrupt\u001b[39;00m(msg) \u001b[38;5;28;01mfrom\u001b[39;00m \u001b[38;5;28;01mNone\u001b[39;00m\n\u001b[0;32m   1306\u001b[0m \u001b[38;5;28;01mexcept\u001b[39;00m \u001b[38;5;167;01mException\u001b[39;00m:\n\u001b[0;32m   1307\u001b[0m     \u001b[38;5;28mself\u001b[39m\u001b[38;5;241m.\u001b[39mlog\u001b[38;5;241m.\u001b[39mwarning(\u001b[38;5;124m\"\u001b[39m\u001b[38;5;124mInvalid Message:\u001b[39m\u001b[38;5;124m\"\u001b[39m, exc_info\u001b[38;5;241m=\u001b[39m\u001b[38;5;28;01mTrue\u001b[39;00m)\n",
      "\u001b[1;31mKeyboardInterrupt\u001b[0m: Interrupted by user"
     ]
    }
   ],
   "source": [
    "user = input('안녕하세요')\n",
    "print(user*2)"
   ]
  },
  {
   "cell_type": "code",
   "execution_count": 25,
   "id": "be0ed4d8-d4c4-4570-85de-48041f95c296",
   "metadata": {},
   "outputs": [
    {
     "name": "stdin",
     "output_type": "stream",
     "text": [
      "숫자를 입력하세요: 30\n"
     ]
    },
    {
     "ename": "TypeError",
     "evalue": "can only concatenate str (not \"int\") to str",
     "output_type": "error",
     "traceback": [
      "\u001b[1;31m---------------------------------------------------------------------------\u001b[0m",
      "\u001b[1;31mTypeError\u001b[0m                                 Traceback (most recent call last)",
      "Cell \u001b[1;32mIn[25], line 2\u001b[0m\n\u001b[0;32m      1\u001b[0m user \u001b[38;5;241m=\u001b[39m \u001b[38;5;28minput\u001b[39m(\u001b[38;5;124m'\u001b[39m\u001b[38;5;124m숫자를 입력하세요:\u001b[39m\u001b[38;5;124m'\u001b[39m)\n\u001b[1;32m----> 2\u001b[0m \u001b[38;5;28mprint\u001b[39m((user)\u001b[38;5;241m+\u001b[39m\u001b[38;5;241m10\u001b[39m)\n",
      "\u001b[1;31mTypeError\u001b[0m: can only concatenate str (not \"int\") to str"
     ]
    }
   ],
   "source": [
    "user = input('숫자를 입력하세요:')\n",
    "print((user)+10)"
   ]
  },
  {
   "cell_type": "code",
   "execution_count": 29,
   "id": "6ac9073d-2356-4b5f-9872-dc521d95356f",
   "metadata": {},
   "outputs": [
    {
     "ename": "SyntaxError",
     "evalue": "expected ':' (1133836846.py, line 4)",
     "output_type": "error",
     "traceback": [
      "\u001b[1;36m  Cell \u001b[1;32mIn[29], line 4\u001b[1;36m\u001b[0m\n\u001b[1;33m    else input > input*1 :\u001b[0m\n\u001b[1;37m         ^\u001b[0m\n\u001b[1;31mSyntaxError\u001b[0m\u001b[1;31m:\u001b[0m expected ':'\n"
     ]
    }
   ],
   "source": [
    "user = input()\n",
    "if input > input*2 :\n",
    "    print('짝수')\n",
    "else input > input*1 :\n",
    "    print('홀수')"
   ]
  },
  {
   "cell_type": "code",
   "execution_count": 32,
   "id": "021ec2eb-0a0f-496e-8aad-90e370d1becc",
   "metadata": {},
   "outputs": [
    {
     "name": "stdin",
     "output_type": "stream",
     "text": [
      "  50\n"
     ]
    },
    {
     "name": "stdout",
     "output_type": "stream",
     "text": [
      "70\n"
     ]
    }
   ],
   "source": [
    "user = input(\" \")\n",
    "print(int(user)+20)\n",
    "if int(user) > 255 :\n",
    "    print(255)"
   ]
  },
  {
   "cell_type": "code",
   "execution_count": 35,
   "id": "c07b3191-a5de-45cc-a997-062dfa861b77",
   "metadata": {},
   "outputs": [
    {
     "ename": "SyntaxError",
     "evalue": "expected ':' (2602288368.py, line 5)",
     "output_type": "error",
     "traceback": [
      "\u001b[1;36m  Cell \u001b[1;32mIn[35], line 5\u001b[1;36m\u001b[0m\n\u001b[1;33m    else num > 255 :\u001b[0m\n\u001b[1;37m         ^\u001b[0m\n\u001b[1;31mSyntaxError\u001b[0m\u001b[1;31m:\u001b[0m expected ':'\n"
     ]
    }
   ],
   "source": [
    "user = input(\" \")\n",
    "num = int(user)-20\n",
    "if num < 0 :\n",
    "    print(0)\n",
    "else num > 255 :\n",
    "    print(255)"
   ]
  },
  {
   "cell_type": "markdown",
   "id": "a454ed5b-e50d-4e53-9987-5964192a3599",
   "metadata": {},
   "source": [
    "## 사용자로부터 입력받은 시간 정각 판별\n",
    "현재시간:02:00 정각 입니다."
   ]
  },
  {
   "cell_type": "code",
   "execution_count": 5,
   "id": "4989b21f-baa3-4f70-8780-b494ed0b782c",
   "metadata": {},
   "outputs": [
    {
     "name": "stdin",
     "output_type": "stream",
     "text": [
      "현재시간 :  3:43\n"
     ]
    },
    {
     "name": "stdout",
     "output_type": "stream",
     "text": [
      "정각이 아닙니다.\n"
     ]
    }
   ],
   "source": [
    "user = input('현재시간 : ')\n",
    "if user[-2:] == '00' :\n",
    "    print('정각 입니다.')\n",
    "else : print('정각이 아닙니다.')"
   ]
  },
  {
   "cell_type": "markdown",
   "id": "85e793b8-f2a1-4e96-bacc-3e8b590467aa",
   "metadata": {},
   "source": [
    "## 입력 단어가 리스트에 있으면 정답 혹은 오답\n",
    "fruit = [\"사과\", \"포도\", \"홍시\"]\r\n"
   ]
  },
  {
   "cell_type": "code",
   "execution_count": 13,
   "id": "8d74c59e-b765-411c-86d8-ac06d9defaea",
   "metadata": {},
   "outputs": [
    {
     "name": "stdin",
     "output_type": "stream",
     "text": [
      "좋은하는 과일은?  포도\n"
     ]
    },
    {
     "name": "stdout",
     "output_type": "stream",
     "text": [
      "정답입니다.\n"
     ]
    }
   ],
   "source": [
    "fruit = [\"사과\", \"포도\", \"홍시\"]\n",
    "fruit_input = input('좋은하는 과일은? ')\n",
    "if fruit_input in fruit :\n",
    "    print('정답입니다.')\n",
    "else :\n",
    "    print('오답입니다.')"
   ]
  },
  {
   "cell_type": "markdown",
   "id": "46b05319-d5b1-45a3-8b9c-f1ca05c73ba2",
   "metadata": {},
   "source": [
    "## 투자 경고 종목 리스트가 있을 때 사용자로부터 종목명을 입력 받은 후 해당 종목이 투자 경고 종목이라면 '투자 경고 종목입니다'를 아니면 \"투자 경고 종목이 아닙니다.\"를 출력하는 프로그램을 작성하라.\n",
    "warn_investment_list = [\"Microsoft\", \"Google\", \"Naver\", \"Kakao\", \"SAMSUNG\", \"LG\"]\n"
   ]
  },
  {
   "cell_type": "code",
   "execution_count": 16,
   "id": "ddc74628-35b4-4a0e-8697-5dcab7374c35",
   "metadata": {},
   "outputs": [
    {
     "name": "stdin",
     "output_type": "stream",
     "text": [
      "투자 기업 :  Apple\n"
     ]
    },
    {
     "name": "stdout",
     "output_type": "stream",
     "text": [
      "투자 경고 종목이 아닙니다.\n"
     ]
    }
   ],
   "source": [
    "warn_investment_list = [\"Microsoft\", \"Google\", \"Naver\", \"Kakao\", \"SAMSUNG\", \"LG\"]\n",
    "corp = input('투자 기업 : ')\n",
    "if corp in warn_investment_list :\n",
    "    print('투자 경고 종목입니다')\n",
    "else :\n",
    "    print('투자 경고 종목이 아닙니다.')"
   ]
  },
  {
   "cell_type": "markdown",
   "id": "029cb61f-ab0c-4209-9c3e-813a073406f0",
   "metadata": {},
   "source": [
    "## 아래와 같이 fruit 딕셔너리가 정의되어 있다. 사용자가 입력한 값이 딕셔너리 키 (key) 값에 포함되었다면 \"정답입니다\"를 아닐 경우 \"오답입니다\" 출력하라.\n",
    "fruit = {\"봄\" : \"딸기\", \"여름\" : \"토마토\", \"가을\" : \"사과\"}\r",
    "제가좋아하는계절은: 봄\r\n",
    "정답입니다\r\n",
    "\n"
   ]
  },
  {
   "cell_type": "code",
   "execution_count": 27,
   "id": "cd278ee7-d096-44bd-80e3-31a7ab2c1fc9",
   "metadata": {},
   "outputs": [
    {
     "name": "stdin",
     "output_type": "stream",
     "text": [
      "제가 좋아하는 계절은 :  딸기\n"
     ]
    },
    {
     "name": "stdout",
     "output_type": "stream",
     "text": [
      "dict_keys(['봄', '여름', '가을'])\n"
     ]
    }
   ],
   "source": [
    "fruit = {\"봄\" : \"딸기\", \"여름\" : \"토마토\", \"가을\" : \"사과\"}\n",
    "fruit_input = input('제가 좋아하는 계절은 : ')\n",
    "if fruit_input in fruit.values() :\n",
    "    print(f'{fruit.keys()}')\n",
    "else :\n",
    "    print('오답입니다.')"
   ]
  },
  {
   "cell_type": "code",
   "execution_count": null,
   "id": "8cd7c0f7-49ad-4d4f-86fc-323fe87b5b2d",
   "metadata": {},
   "outputs": [],
   "source": []
  },
  {
   "cell_type": "code",
   "execution_count": null,
   "id": "4cc37885-3ee0-49a0-99fd-7c85d2d14f88",
   "metadata": {},
   "outputs": [],
   "source": []
  },
  {
   "cell_type": "code",
   "execution_count": null,
   "id": "c4252cac-df61-45e5-ab14-b8a64ada87bb",
   "metadata": {},
   "outputs": [],
   "source": []
  },
  {
   "cell_type": "code",
   "execution_count": null,
   "id": "11e51ad5-2295-4ef2-84b9-091507eadb59",
   "metadata": {},
   "outputs": [],
   "source": []
  }
 ],
 "metadata": {
  "kernelspec": {
   "display_name": "Python 3 (ipykernel)",
   "language": "python",
   "name": "python3"
  },
  "language_info": {
   "codemirror_mode": {
    "name": "ipython",
    "version": 3
   },
   "file_extension": ".py",
   "mimetype": "text/x-python",
   "name": "python",
   "nbconvert_exporter": "python",
   "pygments_lexer": "ipython3",
   "version": "3.11.7"
  }
 },
 "nbformat": 4,
 "nbformat_minor": 5
}
